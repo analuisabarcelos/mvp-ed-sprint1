{
 "cells": [
  {
   "cell_type": "markdown",
   "metadata": {
    "application/vnd.databricks.v1+cell": {
     "cellMetadata": {
      "byteLimit": 2048000,
      "rowLimit": 10000
     },
     "inputWidgets": {},
     "nuid": "b8b9f6e2-bad8-4716-8320-03b52518e1c0",
     "showTitle": false,
     "tableResultSettingsMap": {},
     "title": ""
    }
   },
   "source": [
    "# 1) Objetivo do projeto\n",
    "O objetivo desse projeto de engenharia de dados é responder perguntas relacionadas a vendas de roupas no formato varejo. Deseja-se responder as questões abaixo:\n",
    "\n",
    "- Qual foi a categoria de produto mais vendido em todo o período disponível para análise?\n",
    "- Qual o mês com mais vendas?\n",
    "- Qual cliente mais devolveu no mês de abril do ano mais recente?\n",
    "- Os produtos com mais vendas no mês são os produtos com maior taxa de desconto?\n",
    "- O mês com mais venda é o mês com maior incidência de desconto?"
   ]
  },
  {
   "cell_type": "markdown",
   "metadata": {
    "application/vnd.databricks.v1+cell": {
     "cellMetadata": {
      "byteLimit": 2048000,
      "rowLimit": 10000
     },
     "inputWidgets": {},
     "nuid": "0fe41f87-090a-4794-887f-9aa2a4328249",
     "showTitle": false,
     "tableResultSettingsMap": {},
     "title": ""
    }
   },
   "source": [
    "# 2) Coleta\n",
    "## 2.1) Busca pelos dados\n",
    "Iniciou-se o processo de busca pelo conjunto de dados no site www.kaggle.com.br, uma comunidade voltada para o aprendizado em ciência de dados. O conjunto de dados escolhido foi no tema de venda de roupas no setor varejo, disponível no link a seguir: https://www.kaggle.com/datasets/ricgomes/global-fashion-retail-stores-dataset\n",
    "\n",
    "## 2.2) Coleta dos dados\n",
    "Segundo a plataforma Kaggle, o conjunto de dados escolhido está na versão bronze e tem 6 arquivos em .csv. Foi escolhido um conjunto com mais de um arquivo para intensificar a prática da modelagem com o modelo estrela. Os dados simulam 2 anos de vendas de uma empresa multinacional de venda de roupas, totalizando 1GB de tamanho.\n",
    "\n",
    "![imagem](https://i.ibb.co/PZtwfxj9/429613623-98618ccf-0961-4b5b-9627-0098b327289d.png)\n",
    "\n",
    "Os arquivos foram baixados para o computador local para ser feito o upload no Community Databricks, plataforma sugerida e escolhida para produzir o projeto MVP.\n",
    "O processo de upload no Community Databricks é iniciado com os comandos + New -> Add or upload data no canto superior esquerdo da plataforma.\n",
    "![imagem](https://i.ibb.co/ffF01rF/429633441-26f32398-8668-4583-b02a-8d62d6d92e19.png)\n",
    "\n",
    "Os 6 arquivos são escolhidos para serem carregados e salvos na pasta \"global_fashion\" para melhor organização no diretório DBFS. São eles: clientes.csv, descontos.csv, empregados.csv, produtos.csv, lojas.csv e transacoes.csv\n",
    "\n",
    "![imagem](https://ibb.co/N2L4KSFb)\n",
    "\n",
    "Com isso, todos os dados necessários já estão no Databricks para iniciar o projeto no notebook."
   ]
  },
  {
   "cell_type": "markdown",
   "metadata": {
    "application/vnd.databricks.v1+cell": {
     "cellMetadata": {
      "byteLimit": 2048000,
      "rowLimit": 10000
     },
     "inputWidgets": {},
     "nuid": "d3a540c1-c74d-48d5-a010-42d640e73eba",
     "showTitle": false,
     "tableResultSettingsMap": {},
     "title": ""
    }
   },
   "source": [
    "# 3) Modelagem"
   ]
  },
  {
   "cell_type": "markdown",
   "metadata": {
    "application/vnd.databricks.v1+cell": {
     "cellMetadata": {
      "byteLimit": 2048000,
      "rowLimit": 10000
     },
     "inputWidgets": {},
     "nuid": "57ab6fa0-b9d5-4a8b-b0cd-aeeb647e86f1",
     "showTitle": false,
     "tableResultSettingsMap": {},
     "title": ""
    }
   },
   "source": [
    "## 3.1) Modelo estrela\n",
    "\n",
    "![Lógico_MVP1v1](https://i.ibb.co/TxVyX2Hw/432066156-e3be351c-2e04-4c59-ac6d-9efbef23805c.png)\n"
   ]
  },
  {
   "cell_type": "markdown",
   "metadata": {
    "application/vnd.databricks.v1+cell": {
     "cellMetadata": {
      "byteLimit": 2048000,
      "rowLimit": 10000
     },
     "inputWidgets": {},
     "nuid": "95bf1d31-28b1-4c9c-87c2-061cea2024df",
     "showTitle": false,
     "tableResultSettingsMap": {},
     "title": ""
    }
   },
   "source": [
    "## 3.2) Catálogo de dados\n",
    "- Nome do conjunto de dados: GlobalFashionRetail\n",
    "- Descrição do conjunto de dados: esse conjunto de dados simula 2 anos de vendas de roupas, no modo varejo, de uma loja presente em vários países\n",
    "- Fonte: Kaggle\n",
    "- Uso: é usada para analisar quantidade de vendas, desempenho das vendas em relação a promoções, vendas segmentadas por cliente e por local, entre outras aplicações"
   ]
  },
  {
   "cell_type": "markdown",
   "metadata": {
    "application/vnd.databricks.v1+cell": {
     "cellMetadata": {
      "byteLimit": 2048000,
      "rowLimit": 10000
     },
     "inputWidgets": {},
     "nuid": "2e36fdb4-f2a9-4f9e-bf48-9adeab26cd73",
     "showTitle": false,
     "tableResultSettingsMap": {},
     "title": ""
    }
   },
   "source": [
    "\n",
    "## 3.3) Dicionário de dados\n",
    "Abaixo está o dicionário de dados por tabela existente no modelo\n",
    "\n",
    "![transacoes](https://i.ibb.co/jvyDVGd2/432519940-acca1df6-e1c3-4b7f-9d1b-914283c63a0a.png)\n",
    "\n",
    "![clientes](https://i.ibb.co/3mSY1T5Z/432520090-6f3f151c-398a-4b55-894a-484fc3850322.png)\n",
    "\n",
    "![produtos](https://i.ibb.co/7d5JWynm/432520182-3e61a1b9-a323-4991-a669-fb58c476d275.png)\n",
    "\n",
    "![funcionarios](https://i.ibb.co/PGmdVq83/432520258-56862200-47be-4ee1-9515-e08885ffa3eb.png)\n",
    "\n",
    "![lojas](https://i.ibb.co/Mxt39qNF/432520295-ddddb4d0-449b-45a4-ac5d-52068a535f54.png)"
   ]
  },
  {
   "cell_type": "markdown",
   "metadata": {
    "application/vnd.databricks.v1+cell": {
     "cellMetadata": {
      "byteLimit": 2048000,
      "rowLimit": 10000
     },
     "inputWidgets": {},
     "nuid": "a835e7fd-d819-4d12-8570-fd00bc421bf4",
     "showTitle": false,
     "tableResultSettingsMap": {},
     "title": ""
    }
   },
   "source": [
    "# 4) Carga\n",
    "## 4.1) Extração, transformação e carga"
   ]
  },
  {
   "cell_type": "code",
   "execution_count": 0,
   "metadata": {
    "application/vnd.databricks.v1+cell": {
     "cellMetadata": {
      "byteLimit": 2048000,
      "rowLimit": 10000
     },
     "inputWidgets": {},
     "nuid": "f756f765-96e8-419c-a383-2ec30e06aaad",
     "showTitle": true,
     "tableResultSettingsMap": {},
     "title": "Importação de bibliotecas"
    }
   },
   "outputs": [],
   "source": [
    "import pandas as pd\n",
    "import io\n",
    "import requests\n",
    "from pyspark.sql.functions import col\n",
    "from pyspark.sql import SparkSession"
   ]
  },
  {
   "cell_type": "code",
   "execution_count": 0,
   "metadata": {
    "application/vnd.databricks.v1+cell": {
     "cellMetadata": {
      "byteLimit": 2048000,
      "rowLimit": 10000
     },
     "inputWidgets": {},
     "nuid": "55c0f91c-b6d6-4cff-a0c1-cff2753cf0bf",
     "showTitle": true,
     "tableResultSettingsMap": {},
     "title": "Criação do database"
    }
   },
   "outputs": [],
   "source": [
    "# Iniciar a SparkSession\n",
    "spark = SparkSession.builder.appName(\"ProjetoPySparkFashion\").getOrCreate()"
   ]
  },
  {
   "cell_type": "code",
   "execution_count": 0,
   "metadata": {
    "application/vnd.databricks.v1+cell": {
     "cellMetadata": {
      "byteLimit": 2048000,
      "rowLimit": 10000
     },
     "inputWidgets": {},
     "nuid": "d18dd9b8-7fce-4c30-a99b-1209ee81851d",
     "showTitle": true,
     "tableResultSettingsMap": {},
     "title": "Carregamento dos 6 arquivos"
    }
   },
   "outputs": [],
   "source": [
    "# Carregar os arquivos brutos que foram salvos no DBFS\n",
    "transacoes = spark.read.format(\"csv\").option(\"header\",\"true\").load(\"dbfs:/FileStore/tables/global_fashion/transactions.csv\")\n",
    "clientes = spark.read.format(\"csv\").option(\"header\",\"true\").load(\"dbfs:/FileStore/tables/global_fashion/customers.csv\")\n",
    "descontos = spark.read.format(\"csv\").option(\"header\",\"true\").load(\"dbfs:/FileStore/tables/global_fashion/discounts.csv\")\n",
    "funcionarios = spark.read.format(\"csv\").option(\"header\",\"true\").load(\"dbfs:/FileStore/tables/global_fashion/employees.csv\")\n",
    "produtos = spark.read.format(\"csv\").option(\"header\",\"true\").load(\"dbfs:/FileStore/tables/global_fashion/products.csv\")\n",
    "lojas = spark.read.format(\"csv\").option(\"header\",\"true\").load(\"dbfs:/FileStore/tables/global_fashion/stores.csv\")"
   ]
  },
  {
   "cell_type": "code",
   "execution_count": 0,
   "metadata": {
    "application/vnd.databricks.v1+cell": {
     "cellMetadata": {
      "byteLimit": 2048000,
      "implicitDf": true,
      "rowLimit": 10000
     },
     "inputWidgets": {},
     "nuid": "b4ddfe2e-7de0-4878-b109-bdf6cae05eb9",
     "showTitle": true,
     "tableResultSettingsMap": {},
     "title": "Apagando o database \"fbronze\" para ser recriado"
    }
   },
   "outputs": [
    {
     "output_type": "display_data",
     "data": {
      "text/html": [
       "<style scoped>\n",
       "  .table-result-container {\n",
       "    max-height: 300px;\n",
       "    overflow: auto;\n",
       "  }\n",
       "  table, th, td {\n",
       "    border: 1px solid black;\n",
       "    border-collapse: collapse;\n",
       "  }\n",
       "  th, td {\n",
       "    padding: 5px;\n",
       "  }\n",
       "  th {\n",
       "    text-align: left;\n",
       "  }\n",
       "</style><div class='table-result-container'><table class='table-result'><thead style='background-color: white'><tr></tr></thead><tbody></tbody></table></div>"
      ]
     },
     "metadata": {
      "application/vnd.databricks.v1+output": {
       "addedWidgets": {},
       "aggData": [],
       "aggError": "",
       "aggOverflow": false,
       "aggSchema": [],
       "aggSeriesLimitReached": false,
       "aggType": "",
       "arguments": {},
       "columnCustomDisplayInfos": {},
       "data": [],
       "datasetInfos": [],
       "dbfsResultPath": null,
       "isJsonSchema": true,
       "metadata": {},
       "overflow": false,
       "plotOptions": {
        "customPlotOptions": {},
        "displayType": "table",
        "pivotAggregation": null,
        "pivotColumns": null,
        "xColumns": null,
        "yColumns": null
       },
       "removedWidgets": [],
       "schema": [],
       "type": "table"
      }
     },
     "output_type": "display_data"
    }
   ],
   "source": [
    "%sql DROP DATABASE IF EXISTS fbronze CASCADE;"
   ]
  },
  {
   "cell_type": "code",
   "execution_count": 0,
   "metadata": {
    "application/vnd.databricks.v1+cell": {
     "cellMetadata": {
      "byteLimit": 2048000,
      "implicitDf": true,
      "rowLimit": 10000
     },
     "inputWidgets": {},
     "nuid": "b63573be-3308-4b0d-90ce-35a23b45ceff",
     "showTitle": true,
     "tableResultSettingsMap": {},
     "title": "Recriando o database \"fbronze\""
    }
   },
   "outputs": [
    {
     "output_type": "display_data",
     "data": {
      "text/html": [
       "<style scoped>\n",
       "  .table-result-container {\n",
       "    max-height: 300px;\n",
       "    overflow: auto;\n",
       "  }\n",
       "  table, th, td {\n",
       "    border: 1px solid black;\n",
       "    border-collapse: collapse;\n",
       "  }\n",
       "  th, td {\n",
       "    padding: 5px;\n",
       "  }\n",
       "  th {\n",
       "    text-align: left;\n",
       "  }\n",
       "</style><div class='table-result-container'><table class='table-result'><thead style='background-color: white'><tr></tr></thead><tbody></tbody></table></div>"
      ]
     },
     "metadata": {
      "application/vnd.databricks.v1+output": {
       "addedWidgets": {},
       "aggData": [],
       "aggError": "",
       "aggOverflow": false,
       "aggSchema": [],
       "aggSeriesLimitReached": false,
       "aggType": "",
       "arguments": {},
       "columnCustomDisplayInfos": {},
       "data": [],
       "datasetInfos": [],
       "dbfsResultPath": null,
       "isJsonSchema": true,
       "metadata": {},
       "overflow": false,
       "plotOptions": {
        "customPlotOptions": {},
        "displayType": "table",
        "pivotAggregation": null,
        "pivotColumns": null,
        "xColumns": null,
        "yColumns": null
       },
       "removedWidgets": [],
       "schema": [],
       "type": "table"
      }
     },
     "output_type": "display_data"
    }
   ],
   "source": [
    "%sql CREATE DATABASE fbronze;"
   ]
  },
  {
   "cell_type": "markdown",
   "metadata": {
    "application/vnd.databricks.v1+cell": {
     "cellMetadata": {
      "byteLimit": 2048000,
      "rowLimit": 10000
     },
     "inputWidgets": {},
     "nuid": "6a1ed99c-e9e4-427e-8018-b28a227028fc",
     "showTitle": false,
     "tableResultSettingsMap": {},
     "title": ""
    }
   },
   "source": [
    "**Observação**:\n",
    "o ideal seria manter os dados na camada bronze o mais fiel possível aos dados brutos, porém, como o database não aceita espaços em branco no nome dos campos, altera-se os nomes dos campos para criar as tabelas"
   ]
  },
  {
   "cell_type": "code",
   "execution_count": 0,
   "metadata": {
    "application/vnd.databricks.v1+cell": {
     "cellMetadata": {
      "byteLimit": 2048000,
      "rowLimit": 10000
     },
     "inputWidgets": {},
     "nuid": "f04522dd-fb8d-4c2f-92a5-e5baa76f73fa",
     "showTitle": true,
     "tableResultSettingsMap": {},
     "title": "Ajuste dos nomes dos campos para criação das tabelas"
    }
   },
   "outputs": [],
   "source": [
    "from pyspark.sql.functions import col\n",
    "\n",
    "# Removendo espaços nos nomes das colunas\n",
    "transacoes = transacoes.select(\n",
    "    [col(c).alias(c.replace(\" \", \"\")) for c in transacoes.columns]\n",
    ")\n",
    "\n",
    "clientes = clientes.select(\n",
    "    [col(c).alias(c.replace(\" \", \"\")) for c in clientes.columns]\n",
    ")\n",
    "produtos = produtos.select(\n",
    "    [col(c).alias(c.replace(\" \", \"\")) for c in produtos.columns]\n",
    ")\n",
    "funcionarios = funcionarios.select(\n",
    "    [col(c).alias(c.replace(\" \", \"\")) for c in funcionarios.columns]\n",
    ")\n",
    "descontos = descontos.select(\n",
    "    [col(c).alias(c.replace(\" \", \"\")) for c in descontos.columns]\n",
    ")\n",
    "lojas = lojas.select(\n",
    "    [col(c).alias(c.replace(\" \", \"\")) for c in lojas.columns]\n",
    ")\n"
   ]
  },
  {
   "cell_type": "code",
   "execution_count": 0,
   "metadata": {
    "application/vnd.databricks.v1+cell": {
     "cellMetadata": {
      "byteLimit": 2048000,
      "rowLimit": 10000
     },
     "inputWidgets": {},
     "nuid": "3f5f2883-d168-4834-a953-f670009cc8a2",
     "showTitle": true,
     "tableResultSettingsMap": {},
     "title": "Criação das tabelas na camada bronze"
    }
   },
   "outputs": [],
   "source": [
    "# Salvando as tabelas no banco de dados fbronze\n",
    "transacoes.write.mode(\"overwrite\").saveAsTable(\"fbronze.btransacoes\")\n",
    "clientes.write.mode(\"overwrite\").saveAsTable(\"fbronze.bclientes\")\n",
    "produtos.write.mode(\"overwrite\").saveAsTable(\"fbronze.bprodutos\")\n",
    "funcionarios.write.mode(\"overwrite\").saveAsTable(\"fbronze.bfuncionarios\")\n",
    "descontos.write.mode(\"overwrite\").saveAsTable(\"fbronze.bdescontos\")\n",
    "lojas.write.mode(\"overwrite\").saveAsTable(\"fbronze.blojas\")"
   ]
  },
  {
   "cell_type": "code",
   "execution_count": 0,
   "metadata": {
    "application/vnd.databricks.v1+cell": {
     "cellMetadata": {
      "byteLimit": 2048000,
      "rowLimit": 10000
     },
     "inputWidgets": {},
     "nuid": "6ec5f823-0ef9-4496-ad08-80545f0a0c27",
     "showTitle": false,
     "tableResultSettingsMap": {},
     "title": "Vendo os dados das tabelas"
    }
   },
   "outputs": [
    {
     "output_type": "stream",
     "name": "stdout",
     "output_type": "stream",
     "text": [
      "Transacões:\n"
     ]
    },
    {
     "output_type": "display_data",
     "data": {
      "text/html": [
       "<style scoped>\n",
       "  .table-result-container {\n",
       "    max-height: 300px;\n",
       "    overflow: auto;\n",
       "  }\n",
       "  table, th, td {\n",
       "    border: 1px solid black;\n",
       "    border-collapse: collapse;\n",
       "  }\n",
       "  th, td {\n",
       "    padding: 5px;\n",
       "  }\n",
       "  th {\n",
       "    text-align: left;\n",
       "  }\n",
       "</style><div class='table-result-container'><table class='table-result'><thead style='background-color: white'><tr><th>InvoiceID</th><th>Line</th><th>CustomerID</th><th>ProductID</th><th>Size</th><th>Color</th><th>UnitPrice</th><th>Quantity</th><th>Date</th><th>Discount</th><th>LineTotal</th><th>StoreID</th><th>EmployeeID</th><th>Currency</th><th>CurrencySymbol</th><th>SKU</th><th>TransactionType</th><th>PaymentMethod</th><th>InvoiceTotal</th></tr></thead><tbody><tr><td>INV-US-001-03558761</td><td>1</td><td>47162</td><td>485</td><td>M</td><td>null</td><td>80.5</td><td>1</td><td>2023-01-01 15:42:00</td><td>0.0</td><td>80.5</td><td>1</td><td>7</td><td>USD</td><td>$</td><td>MASU485-M-</td><td>Sale</td><td>Cash</td><td>126.7</td></tr><tr><td>INV-US-001-03558761</td><td>2</td><td>47162</td><td>2779</td><td>G</td><td>null</td><td>31.5</td><td>1</td><td>2023-01-01 15:42:00</td><td>0.4</td><td>18.9</td><td>1</td><td>7</td><td>USD</td><td>$</td><td>CHCO2779-G-</td><td>Sale</td><td>Cash</td><td>126.7</td></tr><tr><td>INV-US-001-03558761</td><td>3</td><td>47162</td><td>64</td><td>M</td><td>NEUTRAL</td><td>45.5</td><td>1</td><td>2023-01-01 15:42:00</td><td>0.4</td><td>27.3</td><td>1</td><td>7</td><td>USD</td><td>$</td><td>MACO64-M-NEUTRAL</td><td>Sale</td><td>Cash</td><td>126.7</td></tr></tbody></table></div>"
      ]
     },
     "metadata": {
      "application/vnd.databricks.v1+output": {
       "addedWidgets": {},
       "aggData": [],
       "aggError": "",
       "aggOverflow": false,
       "aggSchema": [],
       "aggSeriesLimitReached": false,
       "aggType": "",
       "arguments": {},
       "columnCustomDisplayInfos": {},
       "data": [
        [
         "INV-US-001-03558761",
         "1",
         "47162",
         "485",
         "M",
         null,
         "80.5",
         "1",
         "2023-01-01 15:42:00",
         "0.0",
         "80.5",
         "1",
         "7",
         "USD",
         "$",
         "MASU485-M-",
         "Sale",
         "Cash",
         "126.7"
        ],
        [
         "INV-US-001-03558761",
         "2",
         "47162",
         "2779",
         "G",
         null,
         "31.5",
         "1",
         "2023-01-01 15:42:00",
         "0.4",
         "18.9",
         "1",
         "7",
         "USD",
         "$",
         "CHCO2779-G-",
         "Sale",
         "Cash",
         "126.7"
        ],
        [
         "INV-US-001-03558761",
         "3",
         "47162",
         "64",
         "M",
         "NEUTRAL",
         "45.5",
         "1",
         "2023-01-01 15:42:00",
         "0.4",
         "27.3",
         "1",
         "7",
         "USD",
         "$",
         "MACO64-M-NEUTRAL",
         "Sale",
         "Cash",
         "126.7"
        ]
       ],
       "datasetInfos": [],
       "dbfsResultPath": null,
       "isJsonSchema": true,
       "metadata": {},
       "overflow": false,
       "plotOptions": {
        "customPlotOptions": {},
        "displayType": "table",
        "pivotAggregation": null,
        "pivotColumns": null,
        "xColumns": null,
        "yColumns": null
       },
       "removedWidgets": [],
       "schema": [
        {
         "metadata": "{}",
         "name": "InvoiceID",
         "type": "\"string\""
        },
        {
         "metadata": "{}",
         "name": "Line",
         "type": "\"string\""
        },
        {
         "metadata": "{}",
         "name": "CustomerID",
         "type": "\"string\""
        },
        {
         "metadata": "{}",
         "name": "ProductID",
         "type": "\"string\""
        },
        {
         "metadata": "{}",
         "name": "Size",
         "type": "\"string\""
        },
        {
         "metadata": "{}",
         "name": "Color",
         "type": "\"string\""
        },
        {
         "metadata": "{}",
         "name": "UnitPrice",
         "type": "\"string\""
        },
        {
         "metadata": "{}",
         "name": "Quantity",
         "type": "\"string\""
        },
        {
         "metadata": "{}",
         "name": "Date",
         "type": "\"string\""
        },
        {
         "metadata": "{}",
         "name": "Discount",
         "type": "\"string\""
        },
        {
         "metadata": "{}",
         "name": "LineTotal",
         "type": "\"string\""
        },
        {
         "metadata": "{}",
         "name": "StoreID",
         "type": "\"string\""
        },
        {
         "metadata": "{}",
         "name": "EmployeeID",
         "type": "\"string\""
        },
        {
         "metadata": "{}",
         "name": "Currency",
         "type": "\"string\""
        },
        {
         "metadata": "{}",
         "name": "CurrencySymbol",
         "type": "\"string\""
        },
        {
         "metadata": "{}",
         "name": "SKU",
         "type": "\"string\""
        },
        {
         "metadata": "{}",
         "name": "TransactionType",
         "type": "\"string\""
        },
        {
         "metadata": "{}",
         "name": "PaymentMethod",
         "type": "\"string\""
        },
        {
         "metadata": "{}",
         "name": "InvoiceTotal",
         "type": "\"string\""
        }
       ],
       "type": "table"
      }
     },
     "output_type": "display_data"
    },
    {
     "output_type": "stream",
     "name": "stdout",
     "output_type": "stream",
     "text": [
      "Clientes:\n"
     ]
    },
    {
     "output_type": "display_data",
     "data": {
      "text/html": [
       "<style scoped>\n",
       "  .table-result-container {\n",
       "    max-height: 300px;\n",
       "    overflow: auto;\n",
       "  }\n",
       "  table, th, td {\n",
       "    border: 1px solid black;\n",
       "    border-collapse: collapse;\n",
       "  }\n",
       "  th, td {\n",
       "    padding: 5px;\n",
       "  }\n",
       "  th {\n",
       "    text-align: left;\n",
       "  }\n",
       "</style><div class='table-result-container'><table class='table-result'><thead style='background-color: white'><tr><th>CustomerID</th><th>Name</th><th>Email</th><th>Telephone</th><th>City</th><th>Country</th><th>Gender</th><th>DateOfBirth</th><th>JobTitle</th></tr></thead><tbody><tr><td>1</td><td>Tyler Garcia</td><td>tyler.garcia@fake_gmail.com</td><td>922.970.2265x47563</td><td>New York</td><td>United States</td><td>M</td><td>2003-07-15</td><td>null</td></tr><tr><td>2</td><td>Joshua Miller</td><td>joshua.miller@fake_gmail.com</td><td>+1-958-729-6169</td><td>New York</td><td>United States</td><td>M</td><td>2000-06-16</td><td>Records manager</td></tr><tr><td>3</td><td>Alison Marshall DDS</td><td>alison.marshall.dds@fake_hotmail.com</td><td>+1-645-567-0876x5409</td><td>New York</td><td>United States</td><td>F</td><td>2003-07-22</td><td>null</td></tr></tbody></table></div>"
      ]
     },
     "metadata": {
      "application/vnd.databricks.v1+output": {
       "addedWidgets": {},
       "aggData": [],
       "aggError": "",
       "aggOverflow": false,
       "aggSchema": [],
       "aggSeriesLimitReached": false,
       "aggType": "",
       "arguments": {},
       "columnCustomDisplayInfos": {},
       "data": [
        [
         "1",
         "Tyler Garcia",
         "tyler.garcia@fake_gmail.com",
         "922.970.2265x47563",
         "New York",
         "United States",
         "M",
         "2003-07-15",
         null
        ],
        [
         "2",
         "Joshua Miller",
         "joshua.miller@fake_gmail.com",
         "+1-958-729-6169",
         "New York",
         "United States",
         "M",
         "2000-06-16",
         "Records manager"
        ],
        [
         "3",
         "Alison Marshall DDS",
         "alison.marshall.dds@fake_hotmail.com",
         "+1-645-567-0876x5409",
         "New York",
         "United States",
         "F",
         "2003-07-22",
         null
        ]
       ],
       "datasetInfos": [],
       "dbfsResultPath": null,
       "isJsonSchema": true,
       "metadata": {},
       "overflow": false,
       "plotOptions": {
        "customPlotOptions": {},
        "displayType": "table",
        "pivotAggregation": null,
        "pivotColumns": null,
        "xColumns": null,
        "yColumns": null
       },
       "removedWidgets": [],
       "schema": [
        {
         "metadata": "{}",
         "name": "CustomerID",
         "type": "\"string\""
        },
        {
         "metadata": "{}",
         "name": "Name",
         "type": "\"string\""
        },
        {
         "metadata": "{}",
         "name": "Email",
         "type": "\"string\""
        },
        {
         "metadata": "{}",
         "name": "Telephone",
         "type": "\"string\""
        },
        {
         "metadata": "{}",
         "name": "City",
         "type": "\"string\""
        },
        {
         "metadata": "{}",
         "name": "Country",
         "type": "\"string\""
        },
        {
         "metadata": "{}",
         "name": "Gender",
         "type": "\"string\""
        },
        {
         "metadata": "{}",
         "name": "DateOfBirth",
         "type": "\"string\""
        },
        {
         "metadata": "{}",
         "name": "JobTitle",
         "type": "\"string\""
        }
       ],
       "type": "table"
      }
     },
     "output_type": "display_data"
    },
    {
     "output_type": "stream",
     "name": "stdout",
     "output_type": "stream",
     "text": [
      "Produtos:\n"
     ]
    },
    {
     "output_type": "display_data",
     "data": {
      "text/html": [
       "<style scoped>\n",
       "  .table-result-container {\n",
       "    max-height: 300px;\n",
       "    overflow: auto;\n",
       "  }\n",
       "  table, th, td {\n",
       "    border: 1px solid black;\n",
       "    border-collapse: collapse;\n",
       "  }\n",
       "  th, td {\n",
       "    padding: 5px;\n",
       "  }\n",
       "  th {\n",
       "    text-align: left;\n",
       "  }\n",
       "</style><div class='table-result-container'><table class='table-result'><thead style='background-color: white'><tr><th>ProductID</th><th>Category</th><th>SubCategory</th><th>DescriptionPT</th><th>DescriptionDE</th><th>DescriptionFR</th><th>DescriptionES</th><th>DescriptionEN</th><th>DescriptionZH</th><th>Color</th><th>Sizes</th><th>ProductionCost</th></tr></thead><tbody><tr><td>1</td><td>Feminine</td><td>Coats and Blazers</td><td>Esportivo Veludo Verde Com Botões</td><td>Sport Samt Sport Mit Knöpfen</td><td>Sports Velvet Sports Avec Des Boutons</td><td>Deportes De Terciopelo Con Botones</td><td>Sports Velvet Sports With Buttons</td><td>运动天鹅绒运动与按钮</td><td>null</td><td>S|M|L|XL</td><td>10.73</td></tr><tr><td>2</td><td>Feminine</td><td>Sweaters and Knitwear</td><td>Luxuoso Denim Rosa Com Botões</td><td>Luxuriöser Rosa Jeans Mit Knöpfen</td><td>Léchard De Denim Rose Avec Boutons</td><td>Denim Rosa Lujoso Con Botones</td><td>Luxurious Pink Denim With Buttons</td><td>豪华的粉红色牛仔布和纽扣</td><td>PINK</td><td>S|M|L|XL</td><td>19.55</td></tr><tr><td>3</td><td>Feminine</td><td>Dresses and Jumpsuits</td><td>Retrô Tricot Preto Estampado</td><td>Black Tricot Gedruckter Tricot</td><td>Tricot Imprimé En Tricot Noir</td><td>Tricot Negro Tricot Impreso</td><td>Black Tricot Printed Tricot</td><td>黑色三角形印刷三角形</td><td>BLACK</td><td>S|M|L|XL</td><td>25.59</td></tr></tbody></table></div>"
      ]
     },
     "metadata": {
      "application/vnd.databricks.v1+output": {
       "addedWidgets": {},
       "aggData": [],
       "aggError": "",
       "aggOverflow": false,
       "aggSchema": [],
       "aggSeriesLimitReached": false,
       "aggType": "",
       "arguments": {},
       "columnCustomDisplayInfos": {},
       "data": [
        [
         "1",
         "Feminine",
         "Coats and Blazers",
         "Esportivo Veludo Verde Com Botões",
         "Sport Samt Sport Mit Knöpfen",
         "Sports Velvet Sports Avec Des Boutons",
         "Deportes De Terciopelo Con Botones",
         "Sports Velvet Sports With Buttons",
         "运动天鹅绒运动与按钮",
         null,
         "S|M|L|XL",
         "10.73"
        ],
        [
         "2",
         "Feminine",
         "Sweaters and Knitwear",
         "Luxuoso Denim Rosa Com Botões",
         "Luxuriöser Rosa Jeans Mit Knöpfen",
         "Léchard De Denim Rose Avec Boutons",
         "Denim Rosa Lujoso Con Botones",
         "Luxurious Pink Denim With Buttons",
         "豪华的粉红色牛仔布和纽扣",
         "PINK",
         "S|M|L|XL",
         "19.55"
        ],
        [
         "3",
         "Feminine",
         "Dresses and Jumpsuits",
         "Retrô Tricot Preto Estampado",
         "Black Tricot Gedruckter Tricot",
         "Tricot Imprimé En Tricot Noir",
         "Tricot Negro Tricot Impreso",
         "Black Tricot Printed Tricot",
         "黑色三角形印刷三角形",
         "BLACK",
         "S|M|L|XL",
         "25.59"
        ]
       ],
       "datasetInfos": [],
       "dbfsResultPath": null,
       "isJsonSchema": true,
       "metadata": {},
       "overflow": false,
       "plotOptions": {
        "customPlotOptions": {},
        "displayType": "table",
        "pivotAggregation": null,
        "pivotColumns": null,
        "xColumns": null,
        "yColumns": null
       },
       "removedWidgets": [],
       "schema": [
        {
         "metadata": "{}",
         "name": "ProductID",
         "type": "\"string\""
        },
        {
         "metadata": "{}",
         "name": "Category",
         "type": "\"string\""
        },
        {
         "metadata": "{}",
         "name": "SubCategory",
         "type": "\"string\""
        },
        {
         "metadata": "{}",
         "name": "DescriptionPT",
         "type": "\"string\""
        },
        {
         "metadata": "{}",
         "name": "DescriptionDE",
         "type": "\"string\""
        },
        {
         "metadata": "{}",
         "name": "DescriptionFR",
         "type": "\"string\""
        },
        {
         "metadata": "{}",
         "name": "DescriptionES",
         "type": "\"string\""
        },
        {
         "metadata": "{}",
         "name": "DescriptionEN",
         "type": "\"string\""
        },
        {
         "metadata": "{}",
         "name": "DescriptionZH",
         "type": "\"string\""
        },
        {
         "metadata": "{}",
         "name": "Color",
         "type": "\"string\""
        },
        {
         "metadata": "{}",
         "name": "Sizes",
         "type": "\"string\""
        },
        {
         "metadata": "{}",
         "name": "ProductionCost",
         "type": "\"string\""
        }
       ],
       "type": "table"
      }
     },
     "output_type": "display_data"
    },
    {
     "output_type": "stream",
     "name": "stdout",
     "output_type": "stream",
     "text": [
      "Funcionários:\n"
     ]
    },
    {
     "output_type": "display_data",
     "data": {
      "text/html": [
       "<style scoped>\n",
       "  .table-result-container {\n",
       "    max-height: 300px;\n",
       "    overflow: auto;\n",
       "  }\n",
       "  table, th, td {\n",
       "    border: 1px solid black;\n",
       "    border-collapse: collapse;\n",
       "  }\n",
       "  th, td {\n",
       "    padding: 5px;\n",
       "  }\n",
       "  th {\n",
       "    text-align: left;\n",
       "  }\n",
       "</style><div class='table-result-container'><table class='table-result'><thead style='background-color: white'><tr><th>EmployeeID</th><th>StoreID</th><th>Name</th><th>Position</th></tr></thead><tbody><tr><td>1</td><td>1</td><td>Stephen Johnson</td><td>Store Manager</td></tr><tr><td>2</td><td>1</td><td>Rebecca Myers</td><td>Assistant Manager</td></tr><tr><td>3</td><td>1</td><td>Katherine Buchanan</td><td>Cashier</td></tr></tbody></table></div>"
      ]
     },
     "metadata": {
      "application/vnd.databricks.v1+output": {
       "addedWidgets": {},
       "aggData": [],
       "aggError": "",
       "aggOverflow": false,
       "aggSchema": [],
       "aggSeriesLimitReached": false,
       "aggType": "",
       "arguments": {},
       "columnCustomDisplayInfos": {},
       "data": [
        [
         "1",
         "1",
         "Stephen Johnson",
         "Store Manager"
        ],
        [
         "2",
         "1",
         "Rebecca Myers",
         "Assistant Manager"
        ],
        [
         "3",
         "1",
         "Katherine Buchanan",
         "Cashier"
        ]
       ],
       "datasetInfos": [],
       "dbfsResultPath": null,
       "isJsonSchema": true,
       "metadata": {},
       "overflow": false,
       "plotOptions": {
        "customPlotOptions": {},
        "displayType": "table",
        "pivotAggregation": null,
        "pivotColumns": null,
        "xColumns": null,
        "yColumns": null
       },
       "removedWidgets": [],
       "schema": [
        {
         "metadata": "{}",
         "name": "EmployeeID",
         "type": "\"string\""
        },
        {
         "metadata": "{}",
         "name": "StoreID",
         "type": "\"string\""
        },
        {
         "metadata": "{}",
         "name": "Name",
         "type": "\"string\""
        },
        {
         "metadata": "{}",
         "name": "Position",
         "type": "\"string\""
        }
       ],
       "type": "table"
      }
     },
     "output_type": "display_data"
    },
    {
     "output_type": "stream",
     "name": "stdout",
     "output_type": "stream",
     "text": [
      "Descontos:\n"
     ]
    },
    {
     "output_type": "display_data",
     "data": {
      "text/html": [
       "<style scoped>\n",
       "  .table-result-container {\n",
       "    max-height: 300px;\n",
       "    overflow: auto;\n",
       "  }\n",
       "  table, th, td {\n",
       "    border: 1px solid black;\n",
       "    border-collapse: collapse;\n",
       "  }\n",
       "  th, td {\n",
       "    padding: 5px;\n",
       "  }\n",
       "  th {\n",
       "    text-align: left;\n",
       "  }\n",
       "</style><div class='table-result-container'><table class='table-result'><thead style='background-color: white'><tr><th>Start</th><th>End</th><th>Discont</th><th>Description</th><th>Category</th><th>SubCategory</th></tr></thead><tbody><tr><td>2020-01-01</td><td>2020-01-10</td><td>0.4</td><td>40% discount during our New Year Winter Sale</td><td>Feminine</td><td>Coats and Blazers</td></tr><tr><td>2020-01-01</td><td>2020-01-10</td><td>0.4</td><td>40% discount during our New Year Winter Sale</td><td>Feminine</td><td>Sweaters and Knitwear</td></tr><tr><td>2020-01-01</td><td>2020-01-10</td><td>0.4</td><td>40% discount during our New Year Winter Sale</td><td>Masculine</td><td>Coats and Blazers</td></tr></tbody></table></div>"
      ]
     },
     "metadata": {
      "application/vnd.databricks.v1+output": {
       "addedWidgets": {},
       "aggData": [],
       "aggError": "",
       "aggOverflow": false,
       "aggSchema": [],
       "aggSeriesLimitReached": false,
       "aggType": "",
       "arguments": {},
       "columnCustomDisplayInfos": {},
       "data": [
        [
         "2020-01-01",
         "2020-01-10",
         "0.4",
         "40% discount during our New Year Winter Sale",
         "Feminine",
         "Coats and Blazers"
        ],
        [
         "2020-01-01",
         "2020-01-10",
         "0.4",
         "40% discount during our New Year Winter Sale",
         "Feminine",
         "Sweaters and Knitwear"
        ],
        [
         "2020-01-01",
         "2020-01-10",
         "0.4",
         "40% discount during our New Year Winter Sale",
         "Masculine",
         "Coats and Blazers"
        ]
       ],
       "datasetInfos": [],
       "dbfsResultPath": null,
       "isJsonSchema": true,
       "metadata": {},
       "overflow": false,
       "plotOptions": {
        "customPlotOptions": {},
        "displayType": "table",
        "pivotAggregation": null,
        "pivotColumns": null,
        "xColumns": null,
        "yColumns": null
       },
       "removedWidgets": [],
       "schema": [
        {
         "metadata": "{}",
         "name": "Start",
         "type": "\"string\""
        },
        {
         "metadata": "{}",
         "name": "End",
         "type": "\"string\""
        },
        {
         "metadata": "{}",
         "name": "Discont",
         "type": "\"string\""
        },
        {
         "metadata": "{}",
         "name": "Description",
         "type": "\"string\""
        },
        {
         "metadata": "{}",
         "name": "Category",
         "type": "\"string\""
        },
        {
         "metadata": "{}",
         "name": "SubCategory",
         "type": "\"string\""
        }
       ],
       "type": "table"
      }
     },
     "output_type": "display_data"
    },
    {
     "output_type": "stream",
     "name": "stdout",
     "output_type": "stream",
     "text": [
      "Lojas:\n"
     ]
    },
    {
     "output_type": "display_data",
     "data": {
      "text/html": [
       "<style scoped>\n",
       "  .table-result-container {\n",
       "    max-height: 300px;\n",
       "    overflow: auto;\n",
       "  }\n",
       "  table, th, td {\n",
       "    border: 1px solid black;\n",
       "    border-collapse: collapse;\n",
       "  }\n",
       "  th, td {\n",
       "    padding: 5px;\n",
       "  }\n",
       "  th {\n",
       "    text-align: left;\n",
       "  }\n",
       "</style><div class='table-result-container'><table class='table-result'><thead style='background-color: white'><tr><th>StoreID</th><th>Country</th><th>City</th><th>StoreName</th><th>NumberofEmployees</th><th>ZIPCode</th><th>Latitude</th><th>Longitude</th></tr></thead><tbody><tr><td>1</td><td>United States</td><td>New York</td><td>Store New York</td><td>10</td><td>10001</td><td>40.7128</td><td>-74.006</td></tr><tr><td>2</td><td>United States</td><td>Los Angeles</td><td>Store Los Angeles</td><td>8</td><td>90001</td><td>34.0522</td><td>-118.2437</td></tr><tr><td>3</td><td>United States</td><td>Chicago</td><td>Store Chicago</td><td>9</td><td>60601</td><td>41.8781</td><td>-87.6298</td></tr></tbody></table></div>"
      ]
     },
     "metadata": {
      "application/vnd.databricks.v1+output": {
       "addedWidgets": {},
       "aggData": [],
       "aggError": "",
       "aggOverflow": false,
       "aggSchema": [],
       "aggSeriesLimitReached": false,
       "aggType": "",
       "arguments": {},
       "columnCustomDisplayInfos": {},
       "data": [
        [
         "1",
         "United States",
         "New York",
         "Store New York",
         "10",
         "10001",
         "40.7128",
         "-74.006"
        ],
        [
         "2",
         "United States",
         "Los Angeles",
         "Store Los Angeles",
         "8",
         "90001",
         "34.0522",
         "-118.2437"
        ],
        [
         "3",
         "United States",
         "Chicago",
         "Store Chicago",
         "9",
         "60601",
         "41.8781",
         "-87.6298"
        ]
       ],
       "datasetInfos": [],
       "dbfsResultPath": null,
       "isJsonSchema": true,
       "metadata": {},
       "overflow": false,
       "plotOptions": {
        "customPlotOptions": {},
        "displayType": "table",
        "pivotAggregation": null,
        "pivotColumns": null,
        "xColumns": null,
        "yColumns": null
       },
       "removedWidgets": [],
       "schema": [
        {
         "metadata": "{}",
         "name": "StoreID",
         "type": "\"string\""
        },
        {
         "metadata": "{}",
         "name": "Country",
         "type": "\"string\""
        },
        {
         "metadata": "{}",
         "name": "City",
         "type": "\"string\""
        },
        {
         "metadata": "{}",
         "name": "StoreName",
         "type": "\"string\""
        },
        {
         "metadata": "{}",
         "name": "NumberofEmployees",
         "type": "\"string\""
        },
        {
         "metadata": "{}",
         "name": "ZIPCode",
         "type": "\"string\""
        },
        {
         "metadata": "{}",
         "name": "Latitude",
         "type": "\"string\""
        },
        {
         "metadata": "{}",
         "name": "Longitude",
         "type": "\"string\""
        }
       ],
       "type": "table"
      }
     },
     "output_type": "display_data"
    }
   ],
   "source": [
    "# Usando SQL para visualizar as tabelas\n",
    "vtransacoes = spark.sql(\"SELECT * FROM fbronze.btransacoes LIMIT 3\")\n",
    "vclientes = spark.sql(\"SELECT * FROM fbronze.bclientes LIMIT 3\")\n",
    "vprodutos = spark.sql(\"SELECT * FROM fbronze.bprodutos LIMIT 3\")\n",
    "vfuncionarios = spark.sql(\"SELECT * FROM fbronze.bfuncionarios LIMIT 3\")\n",
    "vdescontos = spark.sql(\"SELECT * FROM fbronze.bdescontos LIMIT 3\")\n",
    "vlojas = spark.sql(\"SELECT * FROM fbronze.blojas LIMIT 3\")\n",
    "\n",
    "# Exibir as tabelas\n",
    "print(\"Transacões:\")\n",
    "display(vtransacoes)\n",
    "print(\"Clientes:\")\n",
    "display(vclientes)\n",
    "print(\"Produtos:\")\n",
    "display(vprodutos)\n",
    "print(\"Funcionários:\")\n",
    "display(vfuncionarios)\n",
    "print(\"Descontos:\")\n",
    "display(vdescontos)\n",
    "print(\"Lojas:\")\n",
    "display(vlojas)"
   ]
  },
  {
   "cell_type": "code",
   "execution_count": 0,
   "metadata": {
    "application/vnd.databricks.v1+cell": {
     "cellMetadata": {
      "byteLimit": 2048000,
      "implicitDf": true,
      "rowLimit": 10000
     },
     "inputWidgets": {},
     "nuid": "b9c65099-5a12-41d1-a2aa-bd45c8f8a1b2",
     "showTitle": true,
     "tableResultSettingsMap": {},
     "title": "Apagando o database \"fsilver\" para ser recriado"
    }
   },
   "outputs": [
    {
     "output_type": "display_data",
     "data": {
      "text/html": [
       "<style scoped>\n",
       "  .table-result-container {\n",
       "    max-height: 300px;\n",
       "    overflow: auto;\n",
       "  }\n",
       "  table, th, td {\n",
       "    border: 1px solid black;\n",
       "    border-collapse: collapse;\n",
       "  }\n",
       "  th, td {\n",
       "    padding: 5px;\n",
       "  }\n",
       "  th {\n",
       "    text-align: left;\n",
       "  }\n",
       "</style><div class='table-result-container'><table class='table-result'><thead style='background-color: white'><tr></tr></thead><tbody></tbody></table></div>"
      ]
     },
     "metadata": {
      "application/vnd.databricks.v1+output": {
       "addedWidgets": {},
       "aggData": [],
       "aggError": "",
       "aggOverflow": false,
       "aggSchema": [],
       "aggSeriesLimitReached": false,
       "aggType": "",
       "arguments": {},
       "columnCustomDisplayInfos": {},
       "data": [],
       "datasetInfos": [],
       "dbfsResultPath": null,
       "isJsonSchema": true,
       "metadata": {},
       "overflow": false,
       "plotOptions": {
        "customPlotOptions": {},
        "displayType": "table",
        "pivotAggregation": null,
        "pivotColumns": null,
        "xColumns": null,
        "yColumns": null
       },
       "removedWidgets": [],
       "schema": [],
       "type": "table"
      }
     },
     "output_type": "display_data"
    }
   ],
   "source": [
    "%sql DROP DATABASE IF EXISTS fsilver CASCADE;"
   ]
  },
  {
   "cell_type": "code",
   "execution_count": 0,
   "metadata": {
    "application/vnd.databricks.v1+cell": {
     "cellMetadata": {
      "byteLimit": 2048000,
      "implicitDf": true,
      "rowLimit": 10000
     },
     "inputWidgets": {},
     "nuid": "524bea2e-cfa6-42a7-8df2-5cd73be441cd",
     "showTitle": true,
     "tableResultSettingsMap": {},
     "title": "Recriando o database \"fsilver\""
    }
   },
   "outputs": [
    {
     "output_type": "display_data",
     "data": {
      "text/html": [
       "<style scoped>\n",
       "  .table-result-container {\n",
       "    max-height: 300px;\n",
       "    overflow: auto;\n",
       "  }\n",
       "  table, th, td {\n",
       "    border: 1px solid black;\n",
       "    border-collapse: collapse;\n",
       "  }\n",
       "  th, td {\n",
       "    padding: 5px;\n",
       "  }\n",
       "  th {\n",
       "    text-align: left;\n",
       "  }\n",
       "</style><div class='table-result-container'><table class='table-result'><thead style='background-color: white'><tr></tr></thead><tbody></tbody></table></div>"
      ]
     },
     "metadata": {
      "application/vnd.databricks.v1+output": {
       "addedWidgets": {},
       "aggData": [],
       "aggError": "",
       "aggOverflow": false,
       "aggSchema": [],
       "aggSeriesLimitReached": false,
       "aggType": "",
       "arguments": {},
       "columnCustomDisplayInfos": {},
       "data": [],
       "datasetInfos": [],
       "dbfsResultPath": null,
       "isJsonSchema": true,
       "metadata": {},
       "overflow": false,
       "plotOptions": {
        "customPlotOptions": {},
        "displayType": "table",
        "pivotAggregation": null,
        "pivotColumns": null,
        "xColumns": null,
        "yColumns": null
       },
       "removedWidgets": [],
       "schema": [],
       "type": "table"
      }
     },
     "output_type": "display_data"
    }
   ],
   "source": [
    "%sql CREATE DATABASE fsilver;"
   ]
  },
  {
   "cell_type": "code",
   "execution_count": 0,
   "metadata": {
    "application/vnd.databricks.v1+cell": {
     "cellMetadata": {
      "byteLimit": 2048000,
      "rowLimit": 10000
     },
     "inputWidgets": {},
     "nuid": "0b95f5a3-1f79-4298-a75d-1f7a901710c4",
     "showTitle": true,
     "tableResultSettingsMap": {},
     "title": "Definição dos tipos dos campos das tabelas na camada silver"
    }
   },
   "outputs": [],
   "source": [
    "from pyspark.sql.functions import to_timestamp\n",
    "\n",
    "# Definindo os tipos dos campos de ftransacoes (fashiontransacoes)\n",
    "ftransacoes = spark.table(\"fbronze.btransacoes\")\\\n",
    "    .select(\n",
    "        col(\"InvoiceID\").cast(\"char(30)\"),\n",
    "        col(\"Line\").cast(\"integer\"),\n",
    "        col(\"CustomerID\").cast(\"integer\"),\n",
    "        col(\"ProductID\").cast(\"integer\"),\n",
    "        col(\"Size\").cast(\"char(10)\"),\n",
    "        col(\"Color\").cast(\"char(30)\"),\n",
    "        col(\"UnitPrice\").cast(\"float\"),\n",
    "        col(\"Quantity\").cast(\"integer\"),\n",
    "        to_timestamp(col(\"Date\")).alias(\"Date\"),\n",
    "        col(\"Discount\").cast(\"float\"),\n",
    "        col(\"LineTotal\").cast(\"float\"),\n",
    "        col(\"StoreID\").cast(\"integer\"),\n",
    "        col(\"EmployeeID\").cast(\"integer\"),\n",
    "        col(\"Currency\").cast(\"char(10)\"),\n",
    "        col(\"CurrencySymbol\").cast(\"char(5)\"),\n",
    "        col(\"SKU\").cast(\"char(40)\"),\n",
    "        col(\"TransactionType\").cast(\"char(20)\"),\n",
    "        col(\"PaymentMethod\").cast(\"char(30)\"),\n",
    "        col(\"InvoiceTotal\").cast(\"float\")\n",
    "    )\n",
    "\n",
    "# Definindo os tipos dos campos de fclientes\n",
    "fclientes = spark.table(\"fbronze.bclientes\")\\\n",
    "    .select(\n",
    "        col(\"CustomerID\").cast(\"integer\"),\n",
    "        col(\"Name\").cast(\"char(60)\"),\n",
    "        col(\"Email\").cast(\"char(60)\"),\n",
    "        col(\"Telephone\").cast(\"char(60)\"),\n",
    "        col(\"City\").cast(\"char(30)\"),\n",
    "        col(\"Country\").cast(\"char(30)\"),\n",
    "        col(\"Gender\").cast(\"char(1)\"),\n",
    "        to_timestamp(col(\"DateOfBirth\")).alias(\"DateOfBirth\"),\n",
    "        col(\"JobTitle\").cast(\"char(60)\")\n",
    "    )\n",
    "\n",
    "# Definindo os tipos dos campos de fprodutos\n",
    "fprodutos = spark.table(\"fbronze.bprodutos\")\\\n",
    "    .select(\n",
    "        col(\"ProductID\").cast(\"integer\"),\n",
    "        col(\"Category\").cast(\"char(50)\"),\n",
    "        col(\"SubCategory\").cast(\"char(50)\"),\n",
    "        col(\"DescriptionPT\").cast(\"char(100)\"),\n",
    "        col(\"Color\").cast(\"char(20)\"),\n",
    "        col(\"Sizes\").cast(\"char(10)\"),\n",
    "        col(\"ProductionCost\").cast(\"float\")\n",
    "    )\n",
    "\n",
    "# Definindo os tipos dos campos de ffuncionarios\n",
    "ffuncionarios = spark.table(\"fbronze.bfuncionarios\")\\\n",
    "    .select(\n",
    "        col(\"EmployeeID\").cast(\"integer\"),\n",
    "        col(\"StoreID\").cast(\"integer\"),\n",
    "        col(\"Name\").cast(\"char(60)\"),\n",
    "        col(\"Position\").cast(\"char(60)\"),\n",
    "    )\n",
    "\n",
    "# Definindo os tipos dos campos de flojas\n",
    "flojas = spark.table(\"fbronze.blojas\")\\\n",
    "    .select(\n",
    "        col(\"StoreID\").cast(\"integer\"),\n",
    "        col(\"Country\").cast(\"char(30)\"),\n",
    "        col(\"City\").cast(\"char(30)\"),\n",
    "        col(\"StoreName\").cast(\"char(30)\"),\n",
    "        col(\"NumberOfEmployees\").cast(\"integer\"),\n",
    "        col(\"ZIPCode\").cast(\"char(10)\"),\n",
    "        col(\"Latitude\").cast(\"char(30)\"),\n",
    "        col(\"Longitude\").cast(\"char(30)\")\n",
    "    )\n"
   ]
  },
  {
   "cell_type": "code",
   "execution_count": 0,
   "metadata": {
    "application/vnd.databricks.v1+cell": {
     "cellMetadata": {
      "byteLimit": 2048000,
      "rowLimit": 10000
     },
     "inputWidgets": {},
     "nuid": "2f243953-181c-4e96-8723-1ace7ca3ee56",
     "showTitle": true,
     "tableResultSettingsMap": {},
     "title": "Criação das tabelas na camada silver"
    }
   },
   "outputs": [],
   "source": [
    "# Salvando as tabelas com seus campos com os tipos definidos na camada silver\n",
    "ftransacoes.write.mode(\"overwrite\").saveAsTable(\"fsilver.stransacoes\")\n",
    "fclientes.write.mode(\"overwrite\").saveAsTable(\"fsilver.sclientes\")\n",
    "fprodutos.write.mode(\"overwrite\").saveAsTable(\"fsilver.sprodutos\")\n",
    "ffuncionarios.write.mode(\"overwrite\").saveAsTable(\"fsilver.sfuncionarios\")\n",
    "flojas.write.mode(\"overwrite\").saveAsTable(\"fsilver.slojas\")"
   ]
  },
  {
   "cell_type": "code",
   "execution_count": 0,
   "metadata": {
    "application/vnd.databricks.v1+cell": {
     "cellMetadata": {
      "byteLimit": 2048000,
      "rowLimit": 10000
     },
     "inputWidgets": {},
     "nuid": "abf09034-be2e-4dea-bb16-4d4a4a4c287f",
     "showTitle": false,
     "tableResultSettingsMap": {},
     "title": ""
    }
   },
   "outputs": [
    {
     "output_type": "stream",
     "name": "stdout",
     "output_type": "stream",
     "text": [
      "Transacões:\n"
     ]
    },
    {
     "output_type": "display_data",
     "data": {
      "text/html": [
       "<style scoped>\n",
       "  .table-result-container {\n",
       "    max-height: 300px;\n",
       "    overflow: auto;\n",
       "  }\n",
       "  table, th, td {\n",
       "    border: 1px solid black;\n",
       "    border-collapse: collapse;\n",
       "  }\n",
       "  th, td {\n",
       "    padding: 5px;\n",
       "  }\n",
       "  th {\n",
       "    text-align: left;\n",
       "  }\n",
       "</style><div class='table-result-container'><table class='table-result'><thead style='background-color: white'><tr><th>InvoiceID</th><th>Line</th><th>CustomerID</th><th>ProductID</th><th>Size</th><th>Color</th><th>UnitPrice</th><th>Quantity</th><th>Date</th><th>Discount</th><th>LineTotal</th><th>StoreID</th><th>EmployeeID</th><th>Currency</th><th>CurrencySymbol</th><th>SKU</th><th>TransactionType</th><th>PaymentMethod</th><th>InvoiceTotal</th></tr></thead><tbody><tr><td>INV-US-001-03558761</td><td>1</td><td>47162</td><td>485</td><td>M</td><td>null</td><td>80.5</td><td>1</td><td>2023-01-01T15:42:00.000+0000</td><td>0.0</td><td>80.5</td><td>1</td><td>7</td><td>USD</td><td>$</td><td>MASU485-M-</td><td>Sale</td><td>Cash</td><td>126.7</td></tr><tr><td>INV-US-001-03558761</td><td>2</td><td>47162</td><td>2779</td><td>G</td><td>null</td><td>31.5</td><td>1</td><td>2023-01-01T15:42:00.000+0000</td><td>0.4</td><td>18.9</td><td>1</td><td>7</td><td>USD</td><td>$</td><td>CHCO2779-G-</td><td>Sale</td><td>Cash</td><td>126.7</td></tr><tr><td>INV-US-001-03558761</td><td>3</td><td>47162</td><td>64</td><td>M</td><td>NEUTRAL</td><td>45.5</td><td>1</td><td>2023-01-01T15:42:00.000+0000</td><td>0.4</td><td>27.3</td><td>1</td><td>7</td><td>USD</td><td>$</td><td>MACO64-M-NEUTRAL</td><td>Sale</td><td>Cash</td><td>126.7</td></tr></tbody></table></div>"
      ]
     },
     "metadata": {
      "application/vnd.databricks.v1+output": {
       "addedWidgets": {},
       "aggData": [],
       "aggError": "",
       "aggOverflow": false,
       "aggSchema": [],
       "aggSeriesLimitReached": false,
       "aggType": "",
       "arguments": {},
       "columnCustomDisplayInfos": {},
       "data": [
        [
         "INV-US-001-03558761",
         1,
         47162,
         485,
         "M",
         null,
         80.5,
         1,
         "2023-01-01T15:42:00.000+0000",
         0.0,
         80.5,
         1,
         7,
         "USD",
         "$",
         "MASU485-M-",
         "Sale",
         "Cash",
         126.7
        ],
        [
         "INV-US-001-03558761",
         2,
         47162,
         2779,
         "G",
         null,
         31.5,
         1,
         "2023-01-01T15:42:00.000+0000",
         0.4,
         18.9,
         1,
         7,
         "USD",
         "$",
         "CHCO2779-G-",
         "Sale",
         "Cash",
         126.7
        ],
        [
         "INV-US-001-03558761",
         3,
         47162,
         64,
         "M",
         "NEUTRAL",
         45.5,
         1,
         "2023-01-01T15:42:00.000+0000",
         0.4,
         27.3,
         1,
         7,
         "USD",
         "$",
         "MACO64-M-NEUTRAL",
         "Sale",
         "Cash",
         126.7
        ]
       ],
       "datasetInfos": [],
       "dbfsResultPath": null,
       "isJsonSchema": true,
       "metadata": {},
       "overflow": false,
       "plotOptions": {
        "customPlotOptions": {},
        "displayType": "table",
        "pivotAggregation": null,
        "pivotColumns": null,
        "xColumns": null,
        "yColumns": null
       },
       "removedWidgets": [],
       "schema": [
        {
         "metadata": "{}",
         "name": "InvoiceID",
         "type": "\"string\""
        },
        {
         "metadata": "{}",
         "name": "Line",
         "type": "\"integer\""
        },
        {
         "metadata": "{}",
         "name": "CustomerID",
         "type": "\"integer\""
        },
        {
         "metadata": "{}",
         "name": "ProductID",
         "type": "\"integer\""
        },
        {
         "metadata": "{}",
         "name": "Size",
         "type": "\"string\""
        },
        {
         "metadata": "{}",
         "name": "Color",
         "type": "\"string\""
        },
        {
         "metadata": "{}",
         "name": "UnitPrice",
         "type": "\"float\""
        },
        {
         "metadata": "{}",
         "name": "Quantity",
         "type": "\"integer\""
        },
        {
         "metadata": "{}",
         "name": "Date",
         "type": "\"timestamp\""
        },
        {
         "metadata": "{}",
         "name": "Discount",
         "type": "\"float\""
        },
        {
         "metadata": "{}",
         "name": "LineTotal",
         "type": "\"float\""
        },
        {
         "metadata": "{}",
         "name": "StoreID",
         "type": "\"integer\""
        },
        {
         "metadata": "{}",
         "name": "EmployeeID",
         "type": "\"integer\""
        },
        {
         "metadata": "{}",
         "name": "Currency",
         "type": "\"string\""
        },
        {
         "metadata": "{}",
         "name": "CurrencySymbol",
         "type": "\"string\""
        },
        {
         "metadata": "{}",
         "name": "SKU",
         "type": "\"string\""
        },
        {
         "metadata": "{}",
         "name": "TransactionType",
         "type": "\"string\""
        },
        {
         "metadata": "{}",
         "name": "PaymentMethod",
         "type": "\"string\""
        },
        {
         "metadata": "{}",
         "name": "InvoiceTotal",
         "type": "\"float\""
        }
       ],
       "type": "table"
      }
     },
     "output_type": "display_data"
    },
    {
     "output_type": "stream",
     "name": "stdout",
     "output_type": "stream",
     "text": [
      "Clientes:\n"
     ]
    },
    {
     "output_type": "display_data",
     "data": {
      "text/html": [
       "<style scoped>\n",
       "  .table-result-container {\n",
       "    max-height: 300px;\n",
       "    overflow: auto;\n",
       "  }\n",
       "  table, th, td {\n",
       "    border: 1px solid black;\n",
       "    border-collapse: collapse;\n",
       "  }\n",
       "  th, td {\n",
       "    padding: 5px;\n",
       "  }\n",
       "  th {\n",
       "    text-align: left;\n",
       "  }\n",
       "</style><div class='table-result-container'><table class='table-result'><thead style='background-color: white'><tr><th>CustomerID</th><th>Name</th><th>Email</th><th>Telephone</th><th>City</th><th>Country</th><th>Gender</th><th>DateOfBirth</th><th>JobTitle</th></tr></thead><tbody><tr><td>1</td><td>Tyler Garcia</td><td>tyler.garcia@fake_gmail.com</td><td>922.970.2265x47563</td><td>New York</td><td>United States</td><td>M</td><td>2003-07-15T00:00:00.000+0000</td><td>null</td></tr><tr><td>2</td><td>Joshua Miller</td><td>joshua.miller@fake_gmail.com</td><td>+1-958-729-6169</td><td>New York</td><td>United States</td><td>M</td><td>2000-06-16T00:00:00.000+0000</td><td>Records manager</td></tr><tr><td>3</td><td>Alison Marshall DDS</td><td>alison.marshall.dds@fake_hotmail.com</td><td>+1-645-567-0876x5409</td><td>New York</td><td>United States</td><td>F</td><td>2003-07-22T00:00:00.000+0000</td><td>null</td></tr></tbody></table></div>"
      ]
     },
     "metadata": {
      "application/vnd.databricks.v1+output": {
       "addedWidgets": {},
       "aggData": [],
       "aggError": "",
       "aggOverflow": false,
       "aggSchema": [],
       "aggSeriesLimitReached": false,
       "aggType": "",
       "arguments": {},
       "columnCustomDisplayInfos": {},
       "data": [
        [
         1,
         "Tyler Garcia",
         "tyler.garcia@fake_gmail.com",
         "922.970.2265x47563",
         "New York",
         "United States",
         "M",
         "2003-07-15T00:00:00.000+0000",
         null
        ],
        [
         2,
         "Joshua Miller",
         "joshua.miller@fake_gmail.com",
         "+1-958-729-6169",
         "New York",
         "United States",
         "M",
         "2000-06-16T00:00:00.000+0000",
         "Records manager"
        ],
        [
         3,
         "Alison Marshall DDS",
         "alison.marshall.dds@fake_hotmail.com",
         "+1-645-567-0876x5409",
         "New York",
         "United States",
         "F",
         "2003-07-22T00:00:00.000+0000",
         null
        ]
       ],
       "datasetInfos": [],
       "dbfsResultPath": null,
       "isJsonSchema": true,
       "metadata": {},
       "overflow": false,
       "plotOptions": {
        "customPlotOptions": {},
        "displayType": "table",
        "pivotAggregation": null,
        "pivotColumns": null,
        "xColumns": null,
        "yColumns": null
       },
       "removedWidgets": [],
       "schema": [
        {
         "metadata": "{}",
         "name": "CustomerID",
         "type": "\"integer\""
        },
        {
         "metadata": "{}",
         "name": "Name",
         "type": "\"string\""
        },
        {
         "metadata": "{}",
         "name": "Email",
         "type": "\"string\""
        },
        {
         "metadata": "{}",
         "name": "Telephone",
         "type": "\"string\""
        },
        {
         "metadata": "{}",
         "name": "City",
         "type": "\"string\""
        },
        {
         "metadata": "{}",
         "name": "Country",
         "type": "\"string\""
        },
        {
         "metadata": "{}",
         "name": "Gender",
         "type": "\"string\""
        },
        {
         "metadata": "{}",
         "name": "DateOfBirth",
         "type": "\"timestamp\""
        },
        {
         "metadata": "{}",
         "name": "JobTitle",
         "type": "\"string\""
        }
       ],
       "type": "table"
      }
     },
     "output_type": "display_data"
    },
    {
     "output_type": "stream",
     "name": "stdout",
     "output_type": "stream",
     "text": [
      "Produtos:\n"
     ]
    },
    {
     "output_type": "display_data",
     "data": {
      "text/html": [
       "<style scoped>\n",
       "  .table-result-container {\n",
       "    max-height: 300px;\n",
       "    overflow: auto;\n",
       "  }\n",
       "  table, th, td {\n",
       "    border: 1px solid black;\n",
       "    border-collapse: collapse;\n",
       "  }\n",
       "  th, td {\n",
       "    padding: 5px;\n",
       "  }\n",
       "  th {\n",
       "    text-align: left;\n",
       "  }\n",
       "</style><div class='table-result-container'><table class='table-result'><thead style='background-color: white'><tr><th>ProductID</th><th>Category</th><th>SubCategory</th><th>DescriptionPT</th><th>Color</th><th>Sizes</th><th>ProductionCost</th></tr></thead><tbody><tr><td>1</td><td>Feminine</td><td>Coats and Blazers</td><td>Esportivo Veludo Verde Com Botões</td><td>null</td><td>S|M|L|XL</td><td>10.73</td></tr><tr><td>2</td><td>Feminine</td><td>Sweaters and Knitwear</td><td>Luxuoso Denim Rosa Com Botões</td><td>PINK</td><td>S|M|L|XL</td><td>19.55</td></tr><tr><td>3</td><td>Feminine</td><td>Dresses and Jumpsuits</td><td>Retrô Tricot Preto Estampado</td><td>BLACK</td><td>S|M|L|XL</td><td>25.59</td></tr></tbody></table></div>"
      ]
     },
     "metadata": {
      "application/vnd.databricks.v1+output": {
       "addedWidgets": {},
       "aggData": [],
       "aggError": "",
       "aggOverflow": false,
       "aggSchema": [],
       "aggSeriesLimitReached": false,
       "aggType": "",
       "arguments": {},
       "columnCustomDisplayInfos": {},
       "data": [
        [
         1,
         "Feminine",
         "Coats and Blazers",
         "Esportivo Veludo Verde Com Botões",
         null,
         "S|M|L|XL",
         10.73
        ],
        [
         2,
         "Feminine",
         "Sweaters and Knitwear",
         "Luxuoso Denim Rosa Com Botões",
         "PINK",
         "S|M|L|XL",
         19.55
        ],
        [
         3,
         "Feminine",
         "Dresses and Jumpsuits",
         "Retrô Tricot Preto Estampado",
         "BLACK",
         "S|M|L|XL",
         25.59
        ]
       ],
       "datasetInfos": [],
       "dbfsResultPath": null,
       "isJsonSchema": true,
       "metadata": {},
       "overflow": false,
       "plotOptions": {
        "customPlotOptions": {},
        "displayType": "table",
        "pivotAggregation": null,
        "pivotColumns": null,
        "xColumns": null,
        "yColumns": null
       },
       "removedWidgets": [],
       "schema": [
        {
         "metadata": "{}",
         "name": "ProductID",
         "type": "\"integer\""
        },
        {
         "metadata": "{}",
         "name": "Category",
         "type": "\"string\""
        },
        {
         "metadata": "{}",
         "name": "SubCategory",
         "type": "\"string\""
        },
        {
         "metadata": "{}",
         "name": "DescriptionPT",
         "type": "\"string\""
        },
        {
         "metadata": "{}",
         "name": "Color",
         "type": "\"string\""
        },
        {
         "metadata": "{}",
         "name": "Sizes",
         "type": "\"string\""
        },
        {
         "metadata": "{}",
         "name": "ProductionCost",
         "type": "\"float\""
        }
       ],
       "type": "table"
      }
     },
     "output_type": "display_data"
    },
    {
     "output_type": "stream",
     "name": "stdout",
     "output_type": "stream",
     "text": [
      "Funcionários:\n"
     ]
    },
    {
     "output_type": "display_data",
     "data": {
      "text/html": [
       "<style scoped>\n",
       "  .table-result-container {\n",
       "    max-height: 300px;\n",
       "    overflow: auto;\n",
       "  }\n",
       "  table, th, td {\n",
       "    border: 1px solid black;\n",
       "    border-collapse: collapse;\n",
       "  }\n",
       "  th, td {\n",
       "    padding: 5px;\n",
       "  }\n",
       "  th {\n",
       "    text-align: left;\n",
       "  }\n",
       "</style><div class='table-result-container'><table class='table-result'><thead style='background-color: white'><tr><th>EmployeeID</th><th>StoreID</th><th>Name</th><th>Position</th></tr></thead><tbody><tr><td>1</td><td>1</td><td>Stephen Johnson</td><td>Store Manager</td></tr><tr><td>2</td><td>1</td><td>Rebecca Myers</td><td>Assistant Manager</td></tr><tr><td>3</td><td>1</td><td>Katherine Buchanan</td><td>Cashier</td></tr></tbody></table></div>"
      ]
     },
     "metadata": {
      "application/vnd.databricks.v1+output": {
       "addedWidgets": {},
       "aggData": [],
       "aggError": "",
       "aggOverflow": false,
       "aggSchema": [],
       "aggSeriesLimitReached": false,
       "aggType": "",
       "arguments": {},
       "columnCustomDisplayInfos": {},
       "data": [
        [
         1,
         1,
         "Stephen Johnson",
         "Store Manager"
        ],
        [
         2,
         1,
         "Rebecca Myers",
         "Assistant Manager"
        ],
        [
         3,
         1,
         "Katherine Buchanan",
         "Cashier"
        ]
       ],
       "datasetInfos": [],
       "dbfsResultPath": null,
       "isJsonSchema": true,
       "metadata": {},
       "overflow": false,
       "plotOptions": {
        "customPlotOptions": {},
        "displayType": "table",
        "pivotAggregation": null,
        "pivotColumns": null,
        "xColumns": null,
        "yColumns": null
       },
       "removedWidgets": [],
       "schema": [
        {
         "metadata": "{}",
         "name": "EmployeeID",
         "type": "\"integer\""
        },
        {
         "metadata": "{}",
         "name": "StoreID",
         "type": "\"integer\""
        },
        {
         "metadata": "{}",
         "name": "Name",
         "type": "\"string\""
        },
        {
         "metadata": "{}",
         "name": "Position",
         "type": "\"string\""
        }
       ],
       "type": "table"
      }
     },
     "output_type": "display_data"
    },
    {
     "output_type": "stream",
     "name": "stdout",
     "output_type": "stream",
     "text": [
      "Lojas:\n"
     ]
    },
    {
     "output_type": "display_data",
     "data": {
      "text/html": [
       "<style scoped>\n",
       "  .table-result-container {\n",
       "    max-height: 300px;\n",
       "    overflow: auto;\n",
       "  }\n",
       "  table, th, td {\n",
       "    border: 1px solid black;\n",
       "    border-collapse: collapse;\n",
       "  }\n",
       "  th, td {\n",
       "    padding: 5px;\n",
       "  }\n",
       "  th {\n",
       "    text-align: left;\n",
       "  }\n",
       "</style><div class='table-result-container'><table class='table-result'><thead style='background-color: white'><tr><th>StoreID</th><th>Country</th><th>City</th><th>StoreName</th><th>NumberOfEmployees</th><th>ZIPCode</th><th>Latitude</th><th>Longitude</th></tr></thead><tbody><tr><td>1</td><td>United States</td><td>New York</td><td>Store New York</td><td>10</td><td>10001</td><td>40.7128</td><td>-74.006</td></tr><tr><td>2</td><td>United States</td><td>Los Angeles</td><td>Store Los Angeles</td><td>8</td><td>90001</td><td>34.0522</td><td>-118.2437</td></tr><tr><td>3</td><td>United States</td><td>Chicago</td><td>Store Chicago</td><td>9</td><td>60601</td><td>41.8781</td><td>-87.6298</td></tr></tbody></table></div>"
      ]
     },
     "metadata": {
      "application/vnd.databricks.v1+output": {
       "addedWidgets": {},
       "aggData": [],
       "aggError": "",
       "aggOverflow": false,
       "aggSchema": [],
       "aggSeriesLimitReached": false,
       "aggType": "",
       "arguments": {},
       "columnCustomDisplayInfos": {},
       "data": [
        [
         1,
         "United States",
         "New York",
         "Store New York",
         10,
         "10001",
         "40.7128",
         "-74.006"
        ],
        [
         2,
         "United States",
         "Los Angeles",
         "Store Los Angeles",
         8,
         "90001",
         "34.0522",
         "-118.2437"
        ],
        [
         3,
         "United States",
         "Chicago",
         "Store Chicago",
         9,
         "60601",
         "41.8781",
         "-87.6298"
        ]
       ],
       "datasetInfos": [],
       "dbfsResultPath": null,
       "isJsonSchema": true,
       "metadata": {},
       "overflow": false,
       "plotOptions": {
        "customPlotOptions": {},
        "displayType": "table",
        "pivotAggregation": null,
        "pivotColumns": null,
        "xColumns": null,
        "yColumns": null
       },
       "removedWidgets": [],
       "schema": [
        {
         "metadata": "{}",
         "name": "StoreID",
         "type": "\"integer\""
        },
        {
         "metadata": "{}",
         "name": "Country",
         "type": "\"string\""
        },
        {
         "metadata": "{}",
         "name": "City",
         "type": "\"string\""
        },
        {
         "metadata": "{}",
         "name": "StoreName",
         "type": "\"string\""
        },
        {
         "metadata": "{}",
         "name": "NumberOfEmployees",
         "type": "\"integer\""
        },
        {
         "metadata": "{}",
         "name": "ZIPCode",
         "type": "\"string\""
        },
        {
         "metadata": "{}",
         "name": "Latitude",
         "type": "\"string\""
        },
        {
         "metadata": "{}",
         "name": "Longitude",
         "type": "\"string\""
        }
       ],
       "type": "table"
      }
     },
     "output_type": "display_data"
    }
   ],
   "source": [
    "# Usando SQL para visualizar as tabelas criadas\n",
    "vtransacoes = spark.sql(\"SELECT * FROM fsilver.stransacoes LIMIT 3\")\n",
    "vclientes = spark.sql(\"SELECT * FROM fsilver.sclientes LIMIT 3\")\n",
    "vprodutos = spark.sql(\"SELECT * FROM fsilver.sprodutos LIMIT 3\")\n",
    "vfuncionarios = spark.sql(\"SELECT * FROM fsilver.sfuncionarios LIMIT 3\")\n",
    "vlojas = spark.sql(\"SELECT * FROM fsilver.slojas LIMIT 3\")\n",
    "\n",
    "# Exibir as tabelas\n",
    "print(\"Transacões:\")\n",
    "display(vtransacoes)\n",
    "print(\"Clientes:\")\n",
    "display(vclientes)\n",
    "print(\"Produtos:\")\n",
    "display(vprodutos)\n",
    "print(\"Funcionários:\")\n",
    "display(vfuncionarios)\n",
    "print(\"Lojas:\")\n",
    "display(vlojas)"
   ]
  },
  {
   "cell_type": "markdown",
   "metadata": {
    "application/vnd.databricks.v1+cell": {
     "cellMetadata": {
      "byteLimit": 2048000,
      "rowLimit": 10000
     },
     "inputWidgets": {},
     "nuid": "3f724887-1bec-4aae-a1e3-75caa7aab4ca",
     "showTitle": false,
     "tableResultSettingsMap": {},
     "title": ""
    }
   },
   "source": [
    "# 5) Análise"
   ]
  },
  {
   "cell_type": "markdown",
   "metadata": {
    "application/vnd.databricks.v1+cell": {
     "cellMetadata": {
      "byteLimit": 2048000,
      "rowLimit": 10000
     },
     "inputWidgets": {},
     "nuid": "9b63d4cb-daaa-4aaf-9159-98916f91f463",
     "showTitle": false,
     "tableResultSettingsMap": {},
     "title": ""
    }
   },
   "source": [
    "## 5.1) Qualidade dos dados"
   ]
  },
  {
   "cell_type": "markdown",
   "metadata": {
    "application/vnd.databricks.v1+cell": {
     "cellMetadata": {
      "byteLimit": 2048000,
      "rowLimit": 10000
     },
     "inputWidgets": {},
     "nuid": "307da7d9-be99-431d-9a44-aee6f433871f",
     "showTitle": false,
     "tableResultSettingsMap": {},
     "title": ""
    }
   },
   "source": [
    "### 5.1.1) Chaves nulas\n",
    "Checar valores nulos nas chaves das tabelas, começando por fsilver.stransacoes, e verificando todas as chaves das demais tabelas"
   ]
  },
  {
   "cell_type": "code",
   "execution_count": 0,
   "metadata": {
    "application/vnd.databricks.v1+cell": {
     "cellMetadata": {
      "byteLimit": 2048000,
      "implicitDf": true,
      "rowLimit": 10000
     },
     "inputWidgets": {},
     "nuid": "31e491d8-8ec6-44ad-9d36-6cce7683486b",
     "showTitle": false,
     "tableResultSettingsMap": {},
     "title": ""
    }
   },
   "outputs": [
    {
     "output_type": "display_data",
     "data": {
      "text/html": [
       "<style scoped>\n",
       "  .table-result-container {\n",
       "    max-height: 300px;\n",
       "    overflow: auto;\n",
       "  }\n",
       "  table, th, td {\n",
       "    border: 1px solid black;\n",
       "    border-collapse: collapse;\n",
       "  }\n",
       "  th, td {\n",
       "    padding: 5px;\n",
       "  }\n",
       "  th {\n",
       "    text-align: left;\n",
       "  }\n",
       "</style><div class='table-result-container'><table class='table-result'><thead style='background-color: white'><tr><th>campo</th><th>total_nulos</th></tr></thead><tbody><tr><td>CustomerID</td><td>0</td></tr></tbody></table></div>"
      ]
     },
     "metadata": {
      "application/vnd.databricks.v1+output": {
       "addedWidgets": {},
       "aggData": [],
       "aggError": "",
       "aggOverflow": false,
       "aggSchema": [],
       "aggSeriesLimitReached": false,
       "aggType": "",
       "arguments": {},
       "columnCustomDisplayInfos": {},
       "data": [
        [
         "CustomerID",
         0
        ]
       ],
       "datasetInfos": [],
       "dbfsResultPath": null,
       "isJsonSchema": true,
       "metadata": {},
       "overflow": false,
       "plotOptions": {
        "customPlotOptions": {},
        "displayType": "table",
        "pivotAggregation": null,
        "pivotColumns": null,
        "xColumns": null,
        "yColumns": null
       },
       "removedWidgets": [],
       "schema": [
        {
         "metadata": "{}",
         "name": "campo",
         "type": "\"string\""
        },
        {
         "metadata": "{}",
         "name": "total_nulos",
         "type": "\"long\""
        }
       ],
       "type": "table"
      }
     },
     "output_type": "display_data"
    }
   ],
   "source": [
    "%sql\n",
    "--Checar valores nulos nas chaves das tabelas, primeiro em stransacoes\n",
    "SELECT 'CustomerID' AS campo, COUNT(*) AS total_nulos \n",
    "FROM fsilver.stransacoes \n",
    "WHERE CustomerID IS NULL OR CustomerID < 0"
   ]
  },
  {
   "cell_type": "code",
   "execution_count": 0,
   "metadata": {
    "application/vnd.databricks.v1+cell": {
     "cellMetadata": {
      "byteLimit": 2048000,
      "implicitDf": true,
      "rowLimit": 10000
     },
     "inputWidgets": {},
     "nuid": "242228c6-fa17-45f1-a134-50a9e2bb623e",
     "showTitle": false,
     "tableResultSettingsMap": {},
     "title": ""
    }
   },
   "outputs": [
    {
     "output_type": "display_data",
     "data": {
      "text/html": [
       "<style scoped>\n",
       "  .table-result-container {\n",
       "    max-height: 300px;\n",
       "    overflow: auto;\n",
       "  }\n",
       "  table, th, td {\n",
       "    border: 1px solid black;\n",
       "    border-collapse: collapse;\n",
       "  }\n",
       "  th, td {\n",
       "    padding: 5px;\n",
       "  }\n",
       "  th {\n",
       "    text-align: left;\n",
       "  }\n",
       "</style><div class='table-result-container'><table class='table-result'><thead style='background-color: white'><tr><th>campo</th><th>total_nulos</th></tr></thead><tbody><tr><td>CustomerID</td><td>0</td></tr></tbody></table></div>"
      ]
     },
     "metadata": {
      "application/vnd.databricks.v1+output": {
       "addedWidgets": {},
       "aggData": [],
       "aggError": "",
       "aggOverflow": false,
       "aggSchema": [],
       "aggSeriesLimitReached": false,
       "aggType": "",
       "arguments": {},
       "columnCustomDisplayInfos": {},
       "data": [
        [
         "CustomerID",
         0
        ]
       ],
       "datasetInfos": [],
       "dbfsResultPath": null,
       "isJsonSchema": true,
       "metadata": {},
       "overflow": false,
       "plotOptions": {
        "customPlotOptions": {},
        "displayType": "table",
        "pivotAggregation": null,
        "pivotColumns": null,
        "xColumns": null,
        "yColumns": null
       },
       "removedWidgets": [],
       "schema": [
        {
         "metadata": "{}",
         "name": "campo",
         "type": "\"string\""
        },
        {
         "metadata": "{}",
         "name": "total_nulos",
         "type": "\"long\""
        }
       ],
       "type": "table"
      }
     },
     "output_type": "display_data"
    },
    {
     "output_type": "display_data",
     "data": {
      "text/html": [
       "<style scoped>\n",
       "  .table-result-container {\n",
       "    max-height: 300px;\n",
       "    overflow: auto;\n",
       "  }\n",
       "  table, th, td {\n",
       "    border: 1px solid black;\n",
       "    border-collapse: collapse;\n",
       "  }\n",
       "  th, td {\n",
       "    padding: 5px;\n",
       "  }\n",
       "  th {\n",
       "    text-align: left;\n",
       "  }\n",
       "</style><div class='table-result-container'><table class='table-result'><thead style='background-color: white'><tr><th>campo</th><th>total_nulos</th></tr></thead><tbody><tr><td>InvoiceID</td><td>0</td></tr></tbody></table></div>"
      ]
     },
     "metadata": {
      "application/vnd.databricks.v1+output": {
       "addedWidgets": {},
       "aggData": [],
       "aggError": "",
       "aggOverflow": false,
       "aggSchema": [],
       "aggSeriesLimitReached": false,
       "aggType": "",
       "arguments": {},
       "columnCustomDisplayInfos": {},
       "data": [
        [
         "InvoiceID",
         0
        ]
       ],
       "datasetInfos": [],
       "dbfsResultPath": null,
       "isJsonSchema": true,
       "metadata": {},
       "overflow": false,
       "plotOptions": {
        "customPlotOptions": {},
        "displayType": "table",
        "pivotAggregation": null,
        "pivotColumns": null,
        "xColumns": null,
        "yColumns": null
       },
       "removedWidgets": [],
       "schema": [
        {
         "metadata": "{}",
         "name": "campo",
         "type": "\"string\""
        },
        {
         "metadata": "{}",
         "name": "total_nulos",
         "type": "\"long\""
        }
       ],
       "type": "table"
      }
     },
     "output_type": "display_data"
    },
    {
     "output_type": "display_data",
     "data": {
      "text/html": [
       "<style scoped>\n",
       "  .table-result-container {\n",
       "    max-height: 300px;\n",
       "    overflow: auto;\n",
       "  }\n",
       "  table, th, td {\n",
       "    border: 1px solid black;\n",
       "    border-collapse: collapse;\n",
       "  }\n",
       "  th, td {\n",
       "    padding: 5px;\n",
       "  }\n",
       "  th {\n",
       "    text-align: left;\n",
       "  }\n",
       "</style><div class='table-result-container'><table class='table-result'><thead style='background-color: white'><tr><th>campo</th><th>total_nulos</th></tr></thead><tbody><tr><td>ProductID</td><td>0</td></tr></tbody></table></div>"
      ]
     },
     "metadata": {
      "application/vnd.databricks.v1+output": {
       "addedWidgets": {},
       "aggData": [],
       "aggError": "",
       "aggOverflow": false,
       "aggSchema": [],
       "aggSeriesLimitReached": false,
       "aggType": "",
       "arguments": {},
       "columnCustomDisplayInfos": {},
       "data": [
        [
         "ProductID",
         0
        ]
       ],
       "datasetInfos": [],
       "dbfsResultPath": null,
       "isJsonSchema": true,
       "metadata": {},
       "overflow": false,
       "plotOptions": {
        "customPlotOptions": {},
        "displayType": "table",
        "pivotAggregation": null,
        "pivotColumns": null,
        "xColumns": null,
        "yColumns": null
       },
       "removedWidgets": [],
       "schema": [
        {
         "metadata": "{}",
         "name": "campo",
         "type": "\"string\""
        },
        {
         "metadata": "{}",
         "name": "total_nulos",
         "type": "\"long\""
        }
       ],
       "type": "table"
      }
     },
     "output_type": "display_data"
    },
    {
     "output_type": "display_data",
     "data": {
      "text/html": [
       "<style scoped>\n",
       "  .table-result-container {\n",
       "    max-height: 300px;\n",
       "    overflow: auto;\n",
       "  }\n",
       "  table, th, td {\n",
       "    border: 1px solid black;\n",
       "    border-collapse: collapse;\n",
       "  }\n",
       "  th, td {\n",
       "    padding: 5px;\n",
       "  }\n",
       "  th {\n",
       "    text-align: left;\n",
       "  }\n",
       "</style><div class='table-result-container'><table class='table-result'><thead style='background-color: white'><tr><th>campo</th><th>total_nulos</th></tr></thead><tbody><tr><td>StoreID</td><td>0</td></tr></tbody></table></div>"
      ]
     },
     "metadata": {
      "application/vnd.databricks.v1+output": {
       "addedWidgets": {},
       "aggData": [],
       "aggError": "",
       "aggOverflow": false,
       "aggSchema": [],
       "aggSeriesLimitReached": false,
       "aggType": "",
       "arguments": {},
       "columnCustomDisplayInfos": {},
       "data": [
        [
         "StoreID",
         0
        ]
       ],
       "datasetInfos": [],
       "dbfsResultPath": null,
       "isJsonSchema": true,
       "metadata": {},
       "overflow": false,
       "plotOptions": {
        "customPlotOptions": {},
        "displayType": "table",
        "pivotAggregation": null,
        "pivotColumns": null,
        "xColumns": null,
        "yColumns": null
       },
       "removedWidgets": [],
       "schema": [
        {
         "metadata": "{}",
         "name": "campo",
         "type": "\"string\""
        },
        {
         "metadata": "{}",
         "name": "total_nulos",
         "type": "\"long\""
        }
       ],
       "type": "table"
      }
     },
     "output_type": "display_data"
    },
    {
     "output_type": "display_data",
     "data": {
      "text/html": [
       "<style scoped>\n",
       "  .table-result-container {\n",
       "    max-height: 300px;\n",
       "    overflow: auto;\n",
       "  }\n",
       "  table, th, td {\n",
       "    border: 1px solid black;\n",
       "    border-collapse: collapse;\n",
       "  }\n",
       "  th, td {\n",
       "    padding: 5px;\n",
       "  }\n",
       "  th {\n",
       "    text-align: left;\n",
       "  }\n",
       "</style><div class='table-result-container'><table class='table-result'><thead style='background-color: white'><tr><th>campo</th><th>total_nulos</th></tr></thead><tbody><tr><td>EmployeeID</td><td>0</td></tr></tbody></table></div>"
      ]
     },
     "metadata": {
      "application/vnd.databricks.v1+output": {
       "addedWidgets": {},
       "aggData": [],
       "aggError": "",
       "aggOverflow": false,
       "aggSchema": [],
       "aggSeriesLimitReached": false,
       "aggType": "",
       "arguments": {},
       "columnCustomDisplayInfos": {},
       "data": [
        [
         "EmployeeID",
         0
        ]
       ],
       "datasetInfos": [],
       "dbfsResultPath": null,
       "isJsonSchema": true,
       "metadata": {},
       "overflow": false,
       "plotOptions": {
        "customPlotOptions": {},
        "displayType": "table",
        "pivotAggregation": null,
        "pivotColumns": null,
        "xColumns": null,
        "yColumns": null
       },
       "removedWidgets": [],
       "schema": [
        {
         "metadata": "{}",
         "name": "campo",
         "type": "\"string\""
        },
        {
         "metadata": "{}",
         "name": "total_nulos",
         "type": "\"long\""
        }
       ],
       "type": "table"
      }
     },
     "output_type": "display_data"
    }
   ],
   "source": [
    "# Verificar as chaves das tabelas fsilver.stransacoes para garantir que não há chaves nulas\n",
    "\n",
    "# Executar as consultas com Spark e armazenar os resultados, primeiro para a tabela fsilver.stransacoes e depois para as demais\n",
    "df_customer_nulls = spark.sql(\"SELECT 'CustomerID' AS campo, COUNT(*) AS total_nulos FROM fsilver.stransacoes WHERE CustomerID IS NULL\")\n",
    "df_invoice_nulls = spark.sql(\"SELECT 'InvoiceID' AS campo, COUNT(*) AS total_nulos FROM fsilver.stransacoes WHERE InvoiceID IS NULL\")\n",
    "df_product_nulls = spark.sql(\"SELECT 'ProductID' AS campo, COUNT(*) AS total_nulos FROM fsilver.stransacoes WHERE ProductID IS NULL\")\n",
    "df_store_nulls = spark.sql(\"SELECT 'StoreID' AS campo, COUNT(*) AS total_nulos FROM fsilver.stransacoes WHERE StoreID IS NULL\")\n",
    "df_employee_nulls = spark.sql(\"SELECT 'EmployeeID' AS campo, COUNT(*) AS total_nulos FROM fsilver.stransacoes WHERE EmployeeID IS NULL\")\n",
    "\n",
    "# Exibir os resultados\n",
    "display(df_customer_nulls)\n",
    "display(df_invoice_nulls)\n",
    "display(df_product_nulls)\n",
    "display(df_store_nulls)\n",
    "display(df_employee_nulls)"
   ]
  },
  {
   "cell_type": "code",
   "execution_count": 0,
   "metadata": {
    "application/vnd.databricks.v1+cell": {
     "cellMetadata": {
      "byteLimit": 2048000,
      "rowLimit": 10000
     },
     "inputWidgets": {},
     "nuid": "75c1ffcc-c190-4f39-8d3b-f06a10b8dcf7",
     "showTitle": false,
     "tableResultSettingsMap": {},
     "title": ""
    }
   },
   "outputs": [
    {
     "output_type": "display_data",
     "data": {
      "text/html": [
       "<style scoped>\n",
       "  .table-result-container {\n",
       "    max-height: 300px;\n",
       "    overflow: auto;\n",
       "  }\n",
       "  table, th, td {\n",
       "    border: 1px solid black;\n",
       "    border-collapse: collapse;\n",
       "  }\n",
       "  th, td {\n",
       "    padding: 5px;\n",
       "  }\n",
       "  th {\n",
       "    text-align: left;\n",
       "  }\n",
       "</style><div class='table-result-container'><table class='table-result'><thead style='background-color: white'><tr><th>campo</th><th>total_nulos</th></tr></thead><tbody><tr><td>CustomerID</td><td>0</td></tr></tbody></table></div>"
      ]
     },
     "metadata": {
      "application/vnd.databricks.v1+output": {
       "addedWidgets": {},
       "aggData": [],
       "aggError": "",
       "aggOverflow": false,
       "aggSchema": [],
       "aggSeriesLimitReached": false,
       "aggType": "",
       "arguments": {},
       "columnCustomDisplayInfos": {},
       "data": [
        [
         "CustomerID",
         0
        ]
       ],
       "datasetInfos": [],
       "dbfsResultPath": null,
       "isJsonSchema": true,
       "metadata": {},
       "overflow": false,
       "plotOptions": {
        "customPlotOptions": {},
        "displayType": "table",
        "pivotAggregation": null,
        "pivotColumns": null,
        "xColumns": null,
        "yColumns": null
       },
       "removedWidgets": [],
       "schema": [
        {
         "metadata": "{}",
         "name": "campo",
         "type": "\"string\""
        },
        {
         "metadata": "{}",
         "name": "total_nulos",
         "type": "\"long\""
        }
       ],
       "type": "table"
      }
     },
     "output_type": "display_data"
    }
   ],
   "source": [
    "df_customer_nulls2 = spark.sql(\"SELECT 'CustomerID' AS campo, COUNT(*) AS total_nulos FROM fsilver.sclientes WHERE CustomerID IS NULL\")\n",
    "\n",
    "display(df_customer_nulls2)"
   ]
  },
  {
   "cell_type": "code",
   "execution_count": 0,
   "metadata": {
    "application/vnd.databricks.v1+cell": {
     "cellMetadata": {
      "byteLimit": 2048000,
      "rowLimit": 10000
     },
     "inputWidgets": {},
     "nuid": "6eb3113a-8d1f-4971-8a2b-fe3989036f80",
     "showTitle": false,
     "tableResultSettingsMap": {},
     "title": ""
    }
   },
   "outputs": [
    {
     "output_type": "display_data",
     "data": {
      "text/html": [
       "<style scoped>\n",
       "  .table-result-container {\n",
       "    max-height: 300px;\n",
       "    overflow: auto;\n",
       "  }\n",
       "  table, th, td {\n",
       "    border: 1px solid black;\n",
       "    border-collapse: collapse;\n",
       "  }\n",
       "  th, td {\n",
       "    padding: 5px;\n",
       "  }\n",
       "  th {\n",
       "    text-align: left;\n",
       "  }\n",
       "</style><div class='table-result-container'><table class='table-result'><thead style='background-color: white'><tr><th>campo</th><th>total_nulos</th></tr></thead><tbody><tr><td>ProductID</td><td>0</td></tr></tbody></table></div>"
      ]
     },
     "metadata": {
      "application/vnd.databricks.v1+output": {
       "addedWidgets": {},
       "aggData": [],
       "aggError": "",
       "aggOverflow": false,
       "aggSchema": [],
       "aggSeriesLimitReached": false,
       "aggType": "",
       "arguments": {},
       "columnCustomDisplayInfos": {},
       "data": [
        [
         "ProductID",
         0
        ]
       ],
       "datasetInfos": [],
       "dbfsResultPath": null,
       "isJsonSchema": true,
       "metadata": {},
       "overflow": false,
       "plotOptions": {
        "customPlotOptions": {},
        "displayType": "table",
        "pivotAggregation": null,
        "pivotColumns": null,
        "xColumns": null,
        "yColumns": null
       },
       "removedWidgets": [],
       "schema": [
        {
         "metadata": "{}",
         "name": "campo",
         "type": "\"string\""
        },
        {
         "metadata": "{}",
         "name": "total_nulos",
         "type": "\"long\""
        }
       ],
       "type": "table"
      }
     },
     "output_type": "display_data"
    }
   ],
   "source": [
    "df_product_nulls2 = spark.sql(\"SELECT 'ProductID' AS campo, COUNT(*) AS total_nulos FROM fsilver.sprodutos WHERE ProductID IS NULL\")\n",
    "\n",
    "display(df_product_nulls2)"
   ]
  },
  {
   "cell_type": "code",
   "execution_count": 0,
   "metadata": {
    "application/vnd.databricks.v1+cell": {
     "cellMetadata": {
      "byteLimit": 2048000,
      "rowLimit": 10000
     },
     "inputWidgets": {},
     "nuid": "fa019a3e-71e3-4718-bde2-55f36f709496",
     "showTitle": false,
     "tableResultSettingsMap": {},
     "title": ""
    }
   },
   "outputs": [
    {
     "output_type": "display_data",
     "data": {
      "text/html": [
       "<style scoped>\n",
       "  .table-result-container {\n",
       "    max-height: 300px;\n",
       "    overflow: auto;\n",
       "  }\n",
       "  table, th, td {\n",
       "    border: 1px solid black;\n",
       "    border-collapse: collapse;\n",
       "  }\n",
       "  th, td {\n",
       "    padding: 5px;\n",
       "  }\n",
       "  th {\n",
       "    text-align: left;\n",
       "  }\n",
       "</style><div class='table-result-container'><table class='table-result'><thead style='background-color: white'><tr><th>campo</th><th>total_nulos</th></tr></thead><tbody><tr><td>EmployeeID</td><td>0</td></tr></tbody></table></div>"
      ]
     },
     "metadata": {
      "application/vnd.databricks.v1+output": {
       "addedWidgets": {},
       "aggData": [],
       "aggError": "",
       "aggOverflow": false,
       "aggSchema": [],
       "aggSeriesLimitReached": false,
       "aggType": "",
       "arguments": {},
       "columnCustomDisplayInfos": {},
       "data": [
        [
         "EmployeeID",
         0
        ]
       ],
       "datasetInfos": [],
       "dbfsResultPath": null,
       "isJsonSchema": true,
       "metadata": {},
       "overflow": false,
       "plotOptions": {
        "customPlotOptions": {},
        "displayType": "table",
        "pivotAggregation": null,
        "pivotColumns": null,
        "xColumns": null,
        "yColumns": null
       },
       "removedWidgets": [],
       "schema": [
        {
         "metadata": "{}",
         "name": "campo",
         "type": "\"string\""
        },
        {
         "metadata": "{}",
         "name": "total_nulos",
         "type": "\"long\""
        }
       ],
       "type": "table"
      }
     },
     "output_type": "display_data"
    },
    {
     "output_type": "display_data",
     "data": {
      "text/html": [
       "<style scoped>\n",
       "  .table-result-container {\n",
       "    max-height: 300px;\n",
       "    overflow: auto;\n",
       "  }\n",
       "  table, th, td {\n",
       "    border: 1px solid black;\n",
       "    border-collapse: collapse;\n",
       "  }\n",
       "  th, td {\n",
       "    padding: 5px;\n",
       "  }\n",
       "  th {\n",
       "    text-align: left;\n",
       "  }\n",
       "</style><div class='table-result-container'><table class='table-result'><thead style='background-color: white'><tr><th>campo</th><th>total_nulos</th></tr></thead><tbody><tr><td>StoreID</td><td>0</td></tr></tbody></table></div>"
      ]
     },
     "metadata": {
      "application/vnd.databricks.v1+output": {
       "addedWidgets": {},
       "aggData": [],
       "aggError": "",
       "aggOverflow": false,
       "aggSchema": [],
       "aggSeriesLimitReached": false,
       "aggType": "",
       "arguments": {},
       "columnCustomDisplayInfos": {},
       "data": [
        [
         "StoreID",
         0
        ]
       ],
       "datasetInfos": [],
       "dbfsResultPath": null,
       "isJsonSchema": true,
       "metadata": {},
       "overflow": false,
       "plotOptions": {
        "customPlotOptions": {},
        "displayType": "table",
        "pivotAggregation": null,
        "pivotColumns": null,
        "xColumns": null,
        "yColumns": null
       },
       "removedWidgets": [],
       "schema": [
        {
         "metadata": "{}",
         "name": "campo",
         "type": "\"string\""
        },
        {
         "metadata": "{}",
         "name": "total_nulos",
         "type": "\"long\""
        }
       ],
       "type": "table"
      }
     },
     "output_type": "display_data"
    }
   ],
   "source": [
    "df_employee_nulls2 = spark.sql(\"SELECT 'EmployeeID' AS campo, COUNT(*) AS total_nulos FROM fsilver.sfuncionarios WHERE EmployeeID IS NULL\")\n",
    "df_store_nulls2 = spark.sql(\"SELECT 'StoreID' AS campo, COUNT(*) AS total_nulos FROM fsilver.sfuncionarios WHERE StoreID IS NULL\")\n",
    "\n",
    "display(df_employee_nulls2)\n",
    "display(df_store_nulls2)"
   ]
  },
  {
   "cell_type": "code",
   "execution_count": 0,
   "metadata": {
    "application/vnd.databricks.v1+cell": {
     "cellMetadata": {
      "byteLimit": 2048000,
      "rowLimit": 10000
     },
     "inputWidgets": {},
     "nuid": "06ef1033-cc57-4399-82d1-81bfc2b886d1",
     "showTitle": false,
     "tableResultSettingsMap": {},
     "title": ""
    }
   },
   "outputs": [
    {
     "output_type": "display_data",
     "data": {
      "text/html": [
       "<style scoped>\n",
       "  .table-result-container {\n",
       "    max-height: 300px;\n",
       "    overflow: auto;\n",
       "  }\n",
       "  table, th, td {\n",
       "    border: 1px solid black;\n",
       "    border-collapse: collapse;\n",
       "  }\n",
       "  th, td {\n",
       "    padding: 5px;\n",
       "  }\n",
       "  th {\n",
       "    text-align: left;\n",
       "  }\n",
       "</style><div class='table-result-container'><table class='table-result'><thead style='background-color: white'><tr><th>campo</th><th>total_nulos</th></tr></thead><tbody><tr><td>StoreID</td><td>0</td></tr></tbody></table></div>"
      ]
     },
     "metadata": {
      "application/vnd.databricks.v1+output": {
       "addedWidgets": {},
       "aggData": [],
       "aggError": "",
       "aggOverflow": false,
       "aggSchema": [],
       "aggSeriesLimitReached": false,
       "aggType": "",
       "arguments": {},
       "columnCustomDisplayInfos": {},
       "data": [
        [
         "StoreID",
         0
        ]
       ],
       "datasetInfos": [],
       "dbfsResultPath": null,
       "isJsonSchema": true,
       "metadata": {},
       "overflow": false,
       "plotOptions": {
        "customPlotOptions": {},
        "displayType": "table",
        "pivotAggregation": null,
        "pivotColumns": null,
        "xColumns": null,
        "yColumns": null
       },
       "removedWidgets": [],
       "schema": [
        {
         "metadata": "{}",
         "name": "campo",
         "type": "\"string\""
        },
        {
         "metadata": "{}",
         "name": "total_nulos",
         "type": "\"long\""
        }
       ],
       "type": "table"
      }
     },
     "output_type": "display_data"
    }
   ],
   "source": [
    "df_store_nulls3 = spark.sql(\"SELECT 'StoreID' AS campo, COUNT(*) AS total_nulos FROM fsilver.slojas WHERE StoreID IS NULL\")\n",
    "\n",
    "display(df_store_nulls3)"
   ]
  },
  {
   "cell_type": "markdown",
   "metadata": {
    "application/vnd.databricks.v1+cell": {
     "cellMetadata": {
      "byteLimit": 2048000,
      "rowLimit": 10000
     },
     "inputWidgets": {},
     "nuid": "3c5f6178-77d0-4675-9371-9a17602901db",
     "showTitle": false,
     "tableResultSettingsMap": {},
     "title": ""
    }
   },
   "source": [
    "**Obs1**.: verificado que não há chaves nulas"
   ]
  },
  {
   "cell_type": "markdown",
   "metadata": {
    "application/vnd.databricks.v1+cell": {
     "cellMetadata": {
      "byteLimit": 2048000,
      "rowLimit": 10000
     },
     "inputWidgets": {},
     "nuid": "8fcd1e70-40b4-42de-9308-2b7736a138ed",
     "showTitle": false,
     "tableResultSettingsMap": {},
     "title": ""
    }
   },
   "source": [
    "### 5.1.2) Anos disponíveis\n",
    "Checar se há mais dados do que 2 anos inteiros e ano ou mês maior do que o ano atual ou muito antigo para eliminar, pois não será necessário na análise"
   ]
  },
  {
   "cell_type": "code",
   "execution_count": 0,
   "metadata": {
    "application/vnd.databricks.v1+cell": {
     "cellMetadata": {
      "byteLimit": 2048000,
      "implicitDf": true,
      "rowLimit": 10000
     },
     "inputWidgets": {},
     "nuid": "1413e196-ff49-4280-933e-ffa45c4f9b61",
     "showTitle": false,
     "tableResultSettingsMap": {},
     "title": ""
    }
   },
   "outputs": [
    {
     "output_type": "display_data",
     "data": {
      "text/html": [
       "<style scoped>\n",
       "  .table-result-container {\n",
       "    max-height: 300px;\n",
       "    overflow: auto;\n",
       "  }\n",
       "  table, th, td {\n",
       "    border: 1px solid black;\n",
       "    border-collapse: collapse;\n",
       "  }\n",
       "  th, td {\n",
       "    padding: 5px;\n",
       "  }\n",
       "  th {\n",
       "    text-align: left;\n",
       "  }\n",
       "</style><div class='table-result-container'><table class='table-result'><thead style='background-color: white'><tr><th>anos_disponiveis</th><th>meses_disponiveis</th></tr></thead><tbody><tr><td>2023</td><td>1</td></tr><tr><td>2023</td><td>2</td></tr><tr><td>2023</td><td>3</td></tr><tr><td>2023</td><td>4</td></tr><tr><td>2023</td><td>5</td></tr><tr><td>2023</td><td>6</td></tr><tr><td>2023</td><td>7</td></tr><tr><td>2023</td><td>8</td></tr><tr><td>2023</td><td>9</td></tr><tr><td>2023</td><td>10</td></tr><tr><td>2023</td><td>11</td></tr><tr><td>2023</td><td>12</td></tr><tr><td>2024</td><td>1</td></tr><tr><td>2024</td><td>2</td></tr><tr><td>2024</td><td>3</td></tr><tr><td>2024</td><td>4</td></tr><tr><td>2024</td><td>5</td></tr><tr><td>2024</td><td>6</td></tr><tr><td>2024</td><td>7</td></tr><tr><td>2024</td><td>8</td></tr><tr><td>2024</td><td>9</td></tr><tr><td>2024</td><td>10</td></tr><tr><td>2024</td><td>11</td></tr><tr><td>2024</td><td>12</td></tr><tr><td>2025</td><td>1</td></tr><tr><td>2025</td><td>2</td></tr><tr><td>2025</td><td>3</td></tr></tbody></table></div>"
      ]
     },
     "metadata": {
      "application/vnd.databricks.v1+output": {
       "addedWidgets": {},
       "aggData": [],
       "aggError": "",
       "aggOverflow": false,
       "aggSchema": [],
       "aggSeriesLimitReached": false,
       "aggType": "",
       "arguments": {},
       "columnCustomDisplayInfos": {},
       "data": [
        [
         2023,
         1
        ],
        [
         2023,
         2
        ],
        [
         2023,
         3
        ],
        [
         2023,
         4
        ],
        [
         2023,
         5
        ],
        [
         2023,
         6
        ],
        [
         2023,
         7
        ],
        [
         2023,
         8
        ],
        [
         2023,
         9
        ],
        [
         2023,
         10
        ],
        [
         2023,
         11
        ],
        [
         2023,
         12
        ],
        [
         2024,
         1
        ],
        [
         2024,
         2
        ],
        [
         2024,
         3
        ],
        [
         2024,
         4
        ],
        [
         2024,
         5
        ],
        [
         2024,
         6
        ],
        [
         2024,
         7
        ],
        [
         2024,
         8
        ],
        [
         2024,
         9
        ],
        [
         2024,
         10
        ],
        [
         2024,
         11
        ],
        [
         2024,
         12
        ],
        [
         2025,
         1
        ],
        [
         2025,
         2
        ],
        [
         2025,
         3
        ]
       ],
       "datasetInfos": [],
       "dbfsResultPath": null,
       "isJsonSchema": true,
       "metadata": {},
       "overflow": false,
       "plotOptions": {
        "customPlotOptions": {},
        "displayType": "table",
        "pivotAggregation": null,
        "pivotColumns": null,
        "xColumns": null,
        "yColumns": null
       },
       "removedWidgets": [],
       "schema": [
        {
         "metadata": "{}",
         "name": "anos_disponiveis",
         "type": "\"integer\""
        },
        {
         "metadata": "{}",
         "name": "meses_disponiveis",
         "type": "\"integer\""
        }
       ],
       "type": "table"
      }
     },
     "output_type": "display_data"
    }
   ],
   "source": [
    "%sql\n",
    "SELECT YEAR(Date) AS anos_disponiveis, MONTH(Date) AS meses_disponiveis\n",
    "FROM fsilver.stransacoes\n",
    "GROUP BY anos_disponiveis, meses_disponiveis\n",
    "ORDER BY anos_disponiveis, meses_disponiveis"
   ]
  },
  {
   "cell_type": "code",
   "execution_count": 0,
   "metadata": {
    "application/vnd.databricks.v1+cell": {
     "cellMetadata": {
      "byteLimit": 2048000,
      "implicitDf": true,
      "rowLimit": 10000
     },
     "inputWidgets": {},
     "nuid": "4de0a0ca-b128-4206-8cfb-47aaab12af28",
     "showTitle": false,
     "tableResultSettingsMap": {},
     "title": ""
    }
   },
   "outputs": [
    {
     "output_type": "display_data",
     "data": {
      "text/html": [
       "<style scoped>\n",
       "  .table-result-container {\n",
       "    max-height: 300px;\n",
       "    overflow: auto;\n",
       "  }\n",
       "  table, th, td {\n",
       "    border: 1px solid black;\n",
       "    border-collapse: collapse;\n",
       "  }\n",
       "  th, td {\n",
       "    padding: 5px;\n",
       "  }\n",
       "  th {\n",
       "    text-align: left;\n",
       "  }\n",
       "</style><div class='table-result-container'><table class='table-result'><thead style='background-color: white'><tr><th>num_affected_rows</th></tr></thead><tbody><tr><td>456353</td></tr></tbody></table></div>"
      ]
     },
     "metadata": {
      "application/vnd.databricks.v1+output": {
       "addedWidgets": {},
       "aggData": [],
       "aggError": "",
       "aggOverflow": false,
       "aggSchema": [],
       "aggSeriesLimitReached": false,
       "aggType": "",
       "arguments": {},
       "columnCustomDisplayInfos": {},
       "data": [
        [
         456353
        ]
       ],
       "datasetInfos": [],
       "dbfsResultPath": null,
       "isJsonSchema": true,
       "metadata": {},
       "overflow": false,
       "plotOptions": {
        "customPlotOptions": {},
        "displayType": "table",
        "pivotAggregation": null,
        "pivotColumns": null,
        "xColumns": null,
        "yColumns": null
       },
       "removedWidgets": [],
       "schema": [
        {
         "metadata": "{}",
         "name": "num_affected_rows",
         "type": "\"long\""
        }
       ],
       "type": "table"
      }
     },
     "output_type": "display_data"
    }
   ],
   "source": [
    "%sql\n",
    "--Eliminar as transações do ano 2025 da tabela\n",
    "DELETE FROM fsilver.stransacoes \n",
    "WHERE YEAR(Date) = 2025"
   ]
  },
  {
   "cell_type": "code",
   "execution_count": 0,
   "metadata": {
    "application/vnd.databricks.v1+cell": {
     "cellMetadata": {
      "byteLimit": 2048000,
      "implicitDf": true,
      "rowLimit": 10000
     },
     "inputWidgets": {},
     "nuid": "709032dd-7b4b-4c7d-93b5-99bb0f97ca6d",
     "showTitle": false,
     "tableResultSettingsMap": {},
     "title": ""
    }
   },
   "outputs": [
    {
     "output_type": "display_data",
     "data": {
      "text/html": [
       "<style scoped>\n",
       "  .table-result-container {\n",
       "    max-height: 300px;\n",
       "    overflow: auto;\n",
       "  }\n",
       "  table, th, td {\n",
       "    border: 1px solid black;\n",
       "    border-collapse: collapse;\n",
       "  }\n",
       "  th, td {\n",
       "    padding: 5px;\n",
       "  }\n",
       "  th {\n",
       "    text-align: left;\n",
       "  }\n",
       "</style><div class='table-result-container'><table class='table-result'><thead style='background-color: white'><tr><th>anos_disponiveis</th><th>meses_disponiveis</th></tr></thead><tbody><tr><td>2023</td><td>1</td></tr><tr><td>2023</td><td>2</td></tr><tr><td>2023</td><td>3</td></tr><tr><td>2023</td><td>4</td></tr><tr><td>2023</td><td>5</td></tr><tr><td>2023</td><td>6</td></tr><tr><td>2023</td><td>7</td></tr><tr><td>2023</td><td>8</td></tr><tr><td>2023</td><td>9</td></tr><tr><td>2023</td><td>10</td></tr><tr><td>2023</td><td>11</td></tr><tr><td>2023</td><td>12</td></tr><tr><td>2024</td><td>1</td></tr><tr><td>2024</td><td>2</td></tr><tr><td>2024</td><td>3</td></tr><tr><td>2024</td><td>4</td></tr><tr><td>2024</td><td>5</td></tr><tr><td>2024</td><td>6</td></tr><tr><td>2024</td><td>7</td></tr><tr><td>2024</td><td>8</td></tr><tr><td>2024</td><td>9</td></tr><tr><td>2024</td><td>10</td></tr><tr><td>2024</td><td>11</td></tr><tr><td>2024</td><td>12</td></tr></tbody></table></div>"
      ]
     },
     "metadata": {
      "application/vnd.databricks.v1+output": {
       "addedWidgets": {},
       "aggData": [],
       "aggError": "",
       "aggOverflow": false,
       "aggSchema": [],
       "aggSeriesLimitReached": false,
       "aggType": "",
       "arguments": {},
       "columnCustomDisplayInfos": {},
       "data": [
        [
         2023,
         1
        ],
        [
         2023,
         2
        ],
        [
         2023,
         3
        ],
        [
         2023,
         4
        ],
        [
         2023,
         5
        ],
        [
         2023,
         6
        ],
        [
         2023,
         7
        ],
        [
         2023,
         8
        ],
        [
         2023,
         9
        ],
        [
         2023,
         10
        ],
        [
         2023,
         11
        ],
        [
         2023,
         12
        ],
        [
         2024,
         1
        ],
        [
         2024,
         2
        ],
        [
         2024,
         3
        ],
        [
         2024,
         4
        ],
        [
         2024,
         5
        ],
        [
         2024,
         6
        ],
        [
         2024,
         7
        ],
        [
         2024,
         8
        ],
        [
         2024,
         9
        ],
        [
         2024,
         10
        ],
        [
         2024,
         11
        ],
        [
         2024,
         12
        ]
       ],
       "datasetInfos": [],
       "dbfsResultPath": null,
       "isJsonSchema": true,
       "metadata": {},
       "overflow": false,
       "plotOptions": {
        "customPlotOptions": {},
        "displayType": "table",
        "pivotAggregation": null,
        "pivotColumns": null,
        "xColumns": null,
        "yColumns": null
       },
       "removedWidgets": [],
       "schema": [
        {
         "metadata": "{}",
         "name": "anos_disponiveis",
         "type": "\"integer\""
        },
        {
         "metadata": "{}",
         "name": "meses_disponiveis",
         "type": "\"integer\""
        }
       ],
       "type": "table"
      }
     },
     "output_type": "display_data"
    }
   ],
   "source": [
    "%sql\n",
    "-- Verificando que as transacoes do ano 2025 foram excluídas\n",
    "SELECT YEAR(Date) AS anos_disponiveis, MONTH(Date) AS meses_disponiveis\n",
    "FROM fsilver.stransacoes\n",
    "GROUP BY anos_disponiveis, meses_disponiveis\n",
    "ORDER BY anos_disponiveis, meses_disponiveis"
   ]
  },
  {
   "cell_type": "markdown",
   "metadata": {
    "application/vnd.databricks.v1+cell": {
     "cellMetadata": {
      "byteLimit": 2048000,
      "rowLimit": 10000
     },
     "inputWidgets": {},
     "nuid": "8fec27be-b08f-419f-86f9-bd3d40ac4bd8",
     "showTitle": false,
     "tableResultSettingsMap": {},
     "title": ""
    }
   },
   "source": [
    "**Obs.2**.: transações de 2025 excluídas da tabela"
   ]
  },
  {
   "cell_type": "markdown",
   "metadata": {
    "application/vnd.databricks.v1+cell": {
     "cellMetadata": {
      "byteLimit": 2048000,
      "rowLimit": 10000
     },
     "inputWidgets": {},
     "nuid": "6a3f02d2-482d-4819-975a-3b2e13725548",
     "showTitle": false,
     "tableResultSettingsMap": {},
     "title": ""
    }
   },
   "source": [
    "### 5.1.3) Clientes distintos por transação\n",
    "Verificar se há clientes distintos no mesmo InvoiceID. Não pode existir essa condição na base, pois pode indicar dados inconsistentes"
   ]
  },
  {
   "cell_type": "code",
   "execution_count": 0,
   "metadata": {
    "application/vnd.databricks.v1+cell": {
     "cellMetadata": {
      "byteLimit": 2048000,
      "implicitDf": true,
      "rowLimit": 10000
     },
     "inputWidgets": {},
     "nuid": "b6aef9f8-6e9b-420c-8162-bb246a7b4fc9",
     "showTitle": false,
     "tableResultSettingsMap": {},
     "title": ""
    }
   },
   "outputs": [
    {
     "output_type": "display_data",
     "data": {
      "text/html": [
       "<style scoped>\n",
       "  .table-result-container {\n",
       "    max-height: 300px;\n",
       "    overflow: auto;\n",
       "  }\n",
       "  table, th, td {\n",
       "    border: 1px solid black;\n",
       "    border-collapse: collapse;\n",
       "  }\n",
       "  th, td {\n",
       "    padding: 5px;\n",
       "  }\n",
       "  th {\n",
       "    text-align: left;\n",
       "  }\n",
       "</style><div class='table-result-container'><table class='table-result'><thead style='background-color: white'><tr><th>InvoiceID</th><th>num_customers</th></tr></thead><tbody></tbody></table></div>"
      ]
     },
     "metadata": {
      "application/vnd.databricks.v1+output": {
       "addedWidgets": {},
       "aggData": [],
       "aggError": "",
       "aggOverflow": false,
       "aggSchema": [],
       "aggSeriesLimitReached": false,
       "aggType": "",
       "arguments": {},
       "columnCustomDisplayInfos": {},
       "data": [],
       "datasetInfos": [],
       "dbfsResultPath": null,
       "isJsonSchema": true,
       "metadata": {},
       "overflow": false,
       "plotOptions": {
        "customPlotOptions": {},
        "displayType": "table",
        "pivotAggregation": null,
        "pivotColumns": null,
        "xColumns": null,
        "yColumns": null
       },
       "removedWidgets": [],
       "schema": [
        {
         "metadata": "{}",
         "name": "InvoiceID",
         "type": "\"string\""
        },
        {
         "metadata": "{}",
         "name": "num_customers",
         "type": "\"long\""
        }
       ],
       "type": "table"
      }
     },
     "output_type": "display_data"
    }
   ],
   "source": [
    "%sql\n",
    "SELECT InvoiceID, COUNT(DISTINCT CustomerID) AS num_customers\n",
    "FROM fsilver.stransacoes\n",
    "GROUP BY InvoiceID\n",
    "HAVING num_customers > 1;"
   ]
  },
  {
   "cell_type": "markdown",
   "metadata": {
    "application/vnd.databricks.v1+cell": {
     "cellMetadata": {
      "byteLimit": 2048000,
      "rowLimit": 10000
     },
     "inputWidgets": {},
     "nuid": "9774a967-9e4b-4923-85a3-a212637ff0d1",
     "showTitle": false,
     "tableResultSettingsMap": {},
     "title": ""
    }
   },
   "source": [
    "**Obs.3:** Não há transações feitas por mais de um cliente, nesse ponto os dados estão consistentes"
   ]
  },
  {
   "cell_type": "markdown",
   "metadata": {
    "application/vnd.databricks.v1+cell": {
     "cellMetadata": {
      "byteLimit": 2048000,
      "rowLimit": 10000
     },
     "inputWidgets": {},
     "nuid": "5f8ca1a0-52c2-4546-b931-55c7b2817096",
     "showTitle": false,
     "tableResultSettingsMap": {},
     "title": ""
    }
   },
   "source": [
    "### 5.1.4) Chaves ausentes (clientes)\n",
    "Verificar se os clientes que fizeram transações existem na tabela clientes"
   ]
  },
  {
   "cell_type": "code",
   "execution_count": 0,
   "metadata": {
    "application/vnd.databricks.v1+cell": {
     "cellMetadata": {
      "byteLimit": 2048000,
      "implicitDf": true,
      "rowLimit": 10000
     },
     "inputWidgets": {},
     "nuid": "2b4c8a3c-ac57-45b1-ba05-c7db8b8f558b",
     "showTitle": false,
     "tableResultSettingsMap": {},
     "title": ""
    }
   },
   "outputs": [
    {
     "output_type": "display_data",
     "data": {
      "text/html": [
       "<style scoped>\n",
       "  .table-result-container {\n",
       "    max-height: 300px;\n",
       "    overflow: auto;\n",
       "  }\n",
       "  table, th, td {\n",
       "    border: 1px solid black;\n",
       "    border-collapse: collapse;\n",
       "  }\n",
       "  th, td {\n",
       "    padding: 5px;\n",
       "  }\n",
       "  th {\n",
       "    text-align: left;\n",
       "  }\n",
       "</style><div class='table-result-container'><table class='table-result'><thead style='background-color: white'><tr><th>total_CustomerID_transacoes</th></tr></thead><tbody><tr><td>1258250</td></tr></tbody></table></div>"
      ]
     },
     "metadata": {
      "application/vnd.databricks.v1+output": {
       "addedWidgets": {},
       "aggData": [],
       "aggError": "",
       "aggOverflow": false,
       "aggSchema": [],
       "aggSeriesLimitReached": false,
       "aggType": "",
       "arguments": {},
       "columnCustomDisplayInfos": {},
       "data": [
        [
         1258250
        ]
       ],
       "datasetInfos": [],
       "dbfsResultPath": null,
       "isJsonSchema": true,
       "metadata": {},
       "overflow": false,
       "plotOptions": {
        "customPlotOptions": {},
        "displayType": "table",
        "pivotAggregation": null,
        "pivotColumns": null,
        "xColumns": null,
        "yColumns": null
       },
       "removedWidgets": [],
       "schema": [
        {
         "metadata": "{}",
         "name": "total_CustomerID_transacoes",
         "type": "\"long\""
        }
       ],
       "type": "table"
      }
     },
     "output_type": "display_data"
    }
   ],
   "source": [
    "%sql\n",
    "-- contar a quantidade de clientes distintos totais nas transações\n",
    "SELECT COUNT(DISTINCT CustomerID) AS total_CustomerID_transacoes\n",
    "FROM fsilver.stransacoes"
   ]
  },
  {
   "cell_type": "code",
   "execution_count": 0,
   "metadata": {
    "application/vnd.databricks.v1+cell": {
     "cellMetadata": {
      "byteLimit": 2048000,
      "implicitDf": true,
      "rowLimit": 10000
     },
     "inputWidgets": {},
     "nuid": "5d14555d-6687-415a-9fbb-b8b09977ccad",
     "showTitle": false,
     "tableResultSettingsMap": {},
     "title": ""
    }
   },
   "outputs": [
    {
     "output_type": "display_data",
     "data": {
      "text/html": [
       "<style scoped>\n",
       "  .table-result-container {\n",
       "    max-height: 300px;\n",
       "    overflow: auto;\n",
       "  }\n",
       "  table, th, td {\n",
       "    border: 1px solid black;\n",
       "    border-collapse: collapse;\n",
       "  }\n",
       "  th, td {\n",
       "    padding: 5px;\n",
       "  }\n",
       "  th {\n",
       "    text-align: left;\n",
       "  }\n",
       "</style><div class='table-result-container'><table class='table-result'><thead style='background-color: white'><tr><th>total_CustomerID_identificavel</th></tr></thead><tbody><tr><td>1258250</td></tr></tbody></table></div>"
      ]
     },
     "metadata": {
      "application/vnd.databricks.v1+output": {
       "addedWidgets": {},
       "aggData": [],
       "aggError": "",
       "aggOverflow": false,
       "aggSchema": [],
       "aggSeriesLimitReached": false,
       "aggType": "",
       "arguments": {},
       "columnCustomDisplayInfos": {},
       "data": [
        [
         1258250
        ]
       ],
       "datasetInfos": [],
       "dbfsResultPath": null,
       "isJsonSchema": true,
       "metadata": {},
       "overflow": false,
       "plotOptions": {
        "customPlotOptions": {},
        "displayType": "table",
        "pivotAggregation": null,
        "pivotColumns": null,
        "xColumns": null,
        "yColumns": null
       },
       "removedWidgets": [],
       "schema": [
        {
         "metadata": "{}",
         "name": "total_CustomerID_identificavel",
         "type": "\"long\""
        }
       ],
       "type": "table"
      }
     },
     "output_type": "display_data"
    }
   ],
   "source": [
    "%sql\n",
    "-- contar CustomerID distintos que estão na interseção entre as 2 tabelas\n",
    "SELECT COUNT(DISTINCT s.CustomerID) AS total_CustomerID_identificavel\n",
    "FROM fsilver.stransacoes s\n",
    "INNER JOIN fsilver.sclientes c ON s.CustomerID = c.CustomerID;"
   ]
  },
  {
   "cell_type": "markdown",
   "metadata": {
    "application/vnd.databricks.v1+cell": {
     "cellMetadata": {
      "byteLimit": 2048000,
      "rowLimit": 10000
     },
     "inputWidgets": {},
     "nuid": "dbe45333-176d-4b3a-80d5-f85761ef42b1",
     "showTitle": false,
     "tableResultSettingsMap": {},
     "title": ""
    }
   },
   "source": [
    "**Obs.4:** a quantidade de clientes distintos na tabela de transações e na interseção (join) entre as 2 tabelas é a mesma, portanto, todos os clientes que compraram ou devolveram produtos são identificáveis na tabela dimensão clientes"
   ]
  },
  {
   "cell_type": "markdown",
   "metadata": {
    "application/vnd.databricks.v1+cell": {
     "cellMetadata": {
      "byteLimit": 2048000,
      "rowLimit": 10000
     },
     "inputWidgets": {},
     "nuid": "394d06d8-799a-4193-834c-15f7deeee806",
     "showTitle": false,
     "tableResultSettingsMap": {},
     "title": ""
    }
   },
   "source": [
    "### 5.1.5) Chaves ausentes (produtos)\n",
    "Verificar se todos os produtos vendidos existem na tabela produtos. O racional é o mesmo do item 5.1.4"
   ]
  },
  {
   "cell_type": "code",
   "execution_count": 0,
   "metadata": {
    "application/vnd.databricks.v1+cell": {
     "cellMetadata": {
      "byteLimit": 2048000,
      "implicitDf": true,
      "rowLimit": 10000
     },
     "inputWidgets": {},
     "nuid": "afbe659a-6821-4d90-9deb-1632fc61bd26",
     "showTitle": false,
     "tableResultSettingsMap": {},
     "title": ""
    }
   },
   "outputs": [
    {
     "output_type": "display_data",
     "data": {
      "text/html": [
       "<style scoped>\n",
       "  .table-result-container {\n",
       "    max-height: 300px;\n",
       "    overflow: auto;\n",
       "  }\n",
       "  table, th, td {\n",
       "    border: 1px solid black;\n",
       "    border-collapse: collapse;\n",
       "  }\n",
       "  th, td {\n",
       "    padding: 5px;\n",
       "  }\n",
       "  th {\n",
       "    text-align: left;\n",
       "  }\n",
       "</style><div class='table-result-container'><table class='table-result'><thead style='background-color: white'><tr><th>total_ProductID_transacoes</th></tr></thead><tbody><tr><td>16266</td></tr></tbody></table></div>"
      ]
     },
     "metadata": {
      "application/vnd.databricks.v1+output": {
       "addedWidgets": {},
       "aggData": [],
       "aggError": "",
       "aggOverflow": false,
       "aggSchema": [],
       "aggSeriesLimitReached": false,
       "aggType": "",
       "arguments": {},
       "columnCustomDisplayInfos": {},
       "data": [
        [
         16266
        ]
       ],
       "datasetInfos": [],
       "dbfsResultPath": null,
       "isJsonSchema": true,
       "metadata": {},
       "overflow": false,
       "plotOptions": {
        "customPlotOptions": {},
        "displayType": "table",
        "pivotAggregation": null,
        "pivotColumns": null,
        "xColumns": null,
        "yColumns": null
       },
       "removedWidgets": [],
       "schema": [
        {
         "metadata": "{}",
         "name": "total_ProductID_transacoes",
         "type": "\"long\""
        }
       ],
       "type": "table"
      }
     },
     "output_type": "display_data"
    }
   ],
   "source": [
    "%sql\n",
    "SELECT COUNT(DISTINCT ProductID) AS total_ProductID_transacoes\n",
    "FROM fsilver.stransacoes"
   ]
  },
  {
   "cell_type": "code",
   "execution_count": 0,
   "metadata": {
    "application/vnd.databricks.v1+cell": {
     "cellMetadata": {
      "byteLimit": 2048000,
      "implicitDf": true,
      "rowLimit": 10000
     },
     "inputWidgets": {},
     "nuid": "ca86a75e-2bcf-447d-8f9d-f5d3ac8e9e95",
     "showTitle": false,
     "tableResultSettingsMap": {},
     "title": ""
    }
   },
   "outputs": [
    {
     "output_type": "display_data",
     "data": {
      "text/html": [
       "<style scoped>\n",
       "  .table-result-container {\n",
       "    max-height: 300px;\n",
       "    overflow: auto;\n",
       "  }\n",
       "  table, th, td {\n",
       "    border: 1px solid black;\n",
       "    border-collapse: collapse;\n",
       "  }\n",
       "  th, td {\n",
       "    padding: 5px;\n",
       "  }\n",
       "  th {\n",
       "    text-align: left;\n",
       "  }\n",
       "</style><div class='table-result-container'><table class='table-result'><thead style='background-color: white'><tr><th>total_ProductID_identificavel</th></tr></thead><tbody><tr><td>16266</td></tr></tbody></table></div>"
      ]
     },
     "metadata": {
      "application/vnd.databricks.v1+output": {
       "addedWidgets": {},
       "aggData": [],
       "aggError": "",
       "aggOverflow": false,
       "aggSchema": [],
       "aggSeriesLimitReached": false,
       "aggType": "",
       "arguments": {},
       "columnCustomDisplayInfos": {},
       "data": [
        [
         16266
        ]
       ],
       "datasetInfos": [],
       "dbfsResultPath": null,
       "isJsonSchema": true,
       "metadata": {},
       "overflow": false,
       "plotOptions": {
        "customPlotOptions": {},
        "displayType": "table",
        "pivotAggregation": null,
        "pivotColumns": null,
        "xColumns": null,
        "yColumns": null
       },
       "removedWidgets": [],
       "schema": [
        {
         "metadata": "{}",
         "name": "total_ProductID_identificavel",
         "type": "\"long\""
        }
       ],
       "type": "table"
      }
     },
     "output_type": "display_data"
    }
   ],
   "source": [
    "%sql\n",
    "SELECT COUNT(DISTINCT s.ProductID) AS total_ProductID_identificavel\n",
    "FROM fsilver.stransacoes s\n",
    "INNER JOIN fsilver.sprodutos c ON s.ProductID = c.ProductID"
   ]
  },
  {
   "cell_type": "markdown",
   "metadata": {
    "application/vnd.databricks.v1+cell": {
     "cellMetadata": {
      "byteLimit": 2048000,
      "rowLimit": 10000
     },
     "inputWidgets": {},
     "nuid": "8e0980dc-3377-4448-b519-2cba7f9b3df0",
     "showTitle": false,
     "tableResultSettingsMap": {},
     "title": ""
    }
   },
   "source": [
    "**Obs.5:** todos os produtos comprados ou devolvidos são identificáveis na tabela dimensão produtos"
   ]
  },
  {
   "cell_type": "markdown",
   "metadata": {
    "application/vnd.databricks.v1+cell": {
     "cellMetadata": {
      "byteLimit": 2048000,
      "rowLimit": 10000
     },
     "inputWidgets": {},
     "nuid": "06253521-2409-4f87-b8dd-3d5f9a4819da",
     "showTitle": false,
     "tableResultSettingsMap": {},
     "title": ""
    }
   },
   "source": [
    "### 5.1.6) Telefone e e-mail por cliente\n",
    "Identificar se clientes distintos têm o mesmo telefone ou e-mail. Isso não pode acontecer, pois cada pessoa tem um telefone e e-mail"
   ]
  },
  {
   "cell_type": "code",
   "execution_count": 0,
   "metadata": {
    "application/vnd.databricks.v1+cell": {
     "cellMetadata": {
      "byteLimit": 2048000,
      "implicitDf": true,
      "rowLimit": 10000
     },
     "inputWidgets": {},
     "nuid": "9ac63a08-9c4d-4b14-9eed-0b0c620ac78f",
     "showTitle": false,
     "tableResultSettingsMap": {},
     "title": ""
    }
   },
   "outputs": [
    {
     "output_type": "display_data",
     "data": {
      "text/html": [
       "<style scoped>\n",
       "  .table-result-container {\n",
       "    max-height: 300px;\n",
       "    overflow: auto;\n",
       "  }\n",
       "  table, th, td {\n",
       "    border: 1px solid black;\n",
       "    border-collapse: collapse;\n",
       "  }\n",
       "  th, td {\n",
       "    padding: 5px;\n",
       "  }\n",
       "  th {\n",
       "    text-align: left;\n",
       "  }\n",
       "</style><div class='table-result-container'><table class='table-result'><thead style='background-color: white'><tr><th>Email</th><th>num_clientes</th></tr></thead><tbody><tr><td>tony.seifert@fake_aol.de</td><td>2</td></tr><tr><td>danielle.black@fake_gmail.com</td><td>2</td></tr><tr><td>william.harper@fake_yahoo.com</td><td>4</td></tr><tr><td>jacqueline.taylor@fake_yahoo.com</td><td>3</td></tr><tr><td>kevin.thornton@fake_hotmail.com</td><td>2</td></tr><tr><td>carl.bell@fake_yahoo.com</td><td>2</td></tr><tr><td>nicholas.clark@fake_gmail.com</td><td>6</td></tr><tr><td>thomas.miller@fake_gmail.com</td><td>19</td></tr><tr><td>anthony.armstrong@fake_hotmail.com</td><td>2</td></tr><tr><td>erin.flores@fake_yahoo.com</td><td>2</td></tr></tbody></table></div>"
      ]
     },
     "metadata": {
      "application/vnd.databricks.v1+output": {
       "addedWidgets": {},
       "aggData": [],
       "aggError": "",
       "aggOverflow": false,
       "aggSchema": [],
       "aggSeriesLimitReached": false,
       "aggType": "",
       "arguments": {},
       "columnCustomDisplayInfos": {},
       "data": [
        [
         "tony.seifert@fake_aol.de",
         2
        ],
        [
         "danielle.black@fake_gmail.com",
         2
        ],
        [
         "william.harper@fake_yahoo.com",
         4
        ],
        [
         "jacqueline.taylor@fake_yahoo.com",
         3
        ],
        [
         "kevin.thornton@fake_hotmail.com",
         2
        ],
        [
         "carl.bell@fake_yahoo.com",
         2
        ],
        [
         "nicholas.clark@fake_gmail.com",
         6
        ],
        [
         "thomas.miller@fake_gmail.com",
         19
        ],
        [
         "anthony.armstrong@fake_hotmail.com",
         2
        ],
        [
         "erin.flores@fake_yahoo.com",
         2
        ]
       ],
       "datasetInfos": [],
       "dbfsResultPath": null,
       "isJsonSchema": true,
       "metadata": {},
       "overflow": false,
       "plotOptions": {
        "customPlotOptions": {},
        "displayType": "table",
        "pivotAggregation": null,
        "pivotColumns": null,
        "xColumns": null,
        "yColumns": null
       },
       "removedWidgets": [],
       "schema": [
        {
         "metadata": "{}",
         "name": "Email",
         "type": "\"string\""
        },
        {
         "metadata": "{}",
         "name": "num_clientes",
         "type": "\"long\""
        }
       ],
       "type": "table"
      }
     },
     "output_type": "display_data"
    }
   ],
   "source": [
    "%sql\n",
    "--verificando se o mesmo e-mail pertence a clientes diferentes\n",
    "SELECT Email, COUNT(DISTINCT CustomerID) AS num_clientes\n",
    "FROM fsilver.sclientes\n",
    "GROUP BY Email\n",
    "HAVING num_clientes > 1\n",
    "LIMIT 10"
   ]
  },
  {
   "cell_type": "code",
   "execution_count": 0,
   "metadata": {
    "application/vnd.databricks.v1+cell": {
     "cellMetadata": {
      "byteLimit": 2048000,
      "implicitDf": true,
      "rowLimit": 10000
     },
     "inputWidgets": {},
     "nuid": "c7b6bb53-71da-4504-94fc-a8fab0e36bdf",
     "showTitle": false,
     "tableResultSettingsMap": {},
     "title": ""
    }
   },
   "outputs": [
    {
     "output_type": "display_data",
     "data": {
      "text/html": [
       "<style scoped>\n",
       "  .table-result-container {\n",
       "    max-height: 300px;\n",
       "    overflow: auto;\n",
       "  }\n",
       "  table, th, td {\n",
       "    border: 1px solid black;\n",
       "    border-collapse: collapse;\n",
       "  }\n",
       "  th, td {\n",
       "    padding: 5px;\n",
       "  }\n",
       "  th {\n",
       "    text-align: left;\n",
       "  }\n",
       "</style><div class='table-result-container'><table class='table-result'><thead style='background-color: white'><tr><th>total_registros_inconsistentes_email</th></tr></thead><tbody><tr><td>692263</td></tr></tbody></table></div>"
      ]
     },
     "metadata": {
      "application/vnd.databricks.v1+output": {
       "addedWidgets": {},
       "aggData": [],
       "aggError": "",
       "aggOverflow": false,
       "aggSchema": [],
       "aggSeriesLimitReached": false,
       "aggType": "",
       "arguments": {},
       "columnCustomDisplayInfos": {},
       "data": [
        [
         692263
        ]
       ],
       "datasetInfos": [],
       "dbfsResultPath": null,
       "isJsonSchema": true,
       "metadata": {},
       "overflow": false,
       "plotOptions": {
        "customPlotOptions": {},
        "displayType": "table",
        "pivotAggregation": null,
        "pivotColumns": null,
        "xColumns": null,
        "yColumns": null
       },
       "removedWidgets": [],
       "schema": [
        {
         "metadata": "{}",
         "name": "total_registros_inconsistentes_email",
         "type": "\"long\""
        }
       ],
       "type": "table"
      }
     },
     "output_type": "display_data"
    }
   ],
   "source": [
    "%sql\n",
    "--entendendo a quantidade de registros na tabela (CustomerID distintos) clientes na situação acima\n",
    "SELECT COUNT(*) AS total_registros_inconsistentes_email\n",
    "FROM fsilver.sclientes\n",
    "WHERE Email IN (\n",
    "    SELECT Email FROM fsilver.sclientes GROUP BY Email HAVING COUNT(DISTINCT CustomerID) > 1\n",
    ")"
   ]
  },
  {
   "cell_type": "code",
   "execution_count": 0,
   "metadata": {
    "application/vnd.databricks.v1+cell": {
     "cellMetadata": {
      "byteLimit": 2048000,
      "implicitDf": true,
      "rowLimit": 10000
     },
     "inputWidgets": {},
     "nuid": "1a49e6a8-4c90-4fbc-9ad0-bc3d260f586e",
     "showTitle": false,
     "tableResultSettingsMap": {},
     "title": ""
    }
   },
   "outputs": [
    {
     "output_type": "display_data",
     "data": {
      "text/html": [
       "<style scoped>\n",
       "  .table-result-container {\n",
       "    max-height: 300px;\n",
       "    overflow: auto;\n",
       "  }\n",
       "  table, th, td {\n",
       "    border: 1px solid black;\n",
       "    border-collapse: collapse;\n",
       "  }\n",
       "  th, td {\n",
       "    padding: 5px;\n",
       "  }\n",
       "  th {\n",
       "    text-align: left;\n",
       "  }\n",
       "</style><div class='table-result-container'><table class='table-result'><thead style='background-color: white'><tr><th>total_emails_inconsistentes</th></tr></thead><tbody><tr><td>161121</td></tr></tbody></table></div>"
      ]
     },
     "metadata": {
      "application/vnd.databricks.v1+output": {
       "addedWidgets": {},
       "aggData": [],
       "aggError": "",
       "aggOverflow": false,
       "aggSchema": [],
       "aggSeriesLimitReached": false,
       "aggType": "",
       "arguments": {},
       "columnCustomDisplayInfos": {},
       "data": [
        [
         161121
        ]
       ],
       "datasetInfos": [],
       "dbfsResultPath": null,
       "isJsonSchema": true,
       "metadata": {},
       "overflow": false,
       "plotOptions": {
        "customPlotOptions": {},
        "displayType": "table",
        "pivotAggregation": null,
        "pivotColumns": null,
        "xColumns": null,
        "yColumns": null
       },
       "removedWidgets": [],
       "schema": [
        {
         "metadata": "{}",
         "name": "total_emails_inconsistentes",
         "type": "\"long\""
        }
       ],
       "type": "table"
      }
     },
     "output_type": "display_data"
    }
   ],
   "source": [
    "%sql\n",
    "--entendendo agora a quantidade de e-mails nessa situação\n",
    "SELECT COUNT(*) AS total_emails_inconsistentes\n",
    "FROM (\n",
    "    SELECT Email FROM fsilver.sclientes GROUP BY Email HAVING COUNT(DISTINCT CustomerID) > 1\n",
    ") AS emails_repetidos"
   ]
  },
  {
   "cell_type": "code",
   "execution_count": 0,
   "metadata": {
    "application/vnd.databricks.v1+cell": {
     "cellMetadata": {
      "byteLimit": 2048000,
      "implicitDf": true,
      "rowLimit": 10000
     },
     "inputWidgets": {},
     "nuid": "0a6b6931-85b0-47fb-b7de-fdf9b5b1fc67",
     "showTitle": false,
     "tableResultSettingsMap": {},
     "title": ""
    }
   },
   "outputs": [
    {
     "output_type": "display_data",
     "data": {
      "text/html": [
       "<style scoped>\n",
       "  .table-result-container {\n",
       "    max-height: 300px;\n",
       "    overflow: auto;\n",
       "  }\n",
       "  table, th, td {\n",
       "    border: 1px solid black;\n",
       "    border-collapse: collapse;\n",
       "  }\n",
       "  th, td {\n",
       "    padding: 5px;\n",
       "  }\n",
       "  th {\n",
       "    text-align: left;\n",
       "  }\n",
       "</style><div class='table-result-container'><table class='table-result'><thead style='background-color: white'><tr><th>CustomerID</th><th>Name</th><th>Email</th><th>Telephone</th><th>City</th><th>Country</th><th>Gender</th><th>DateOfBirth</th><th>JobTitle</th></tr></thead><tbody><tr><td>183375</td><td>Kayla Hall</td><td>kayla.hall@fake_gmail.com</td><td>(275)977-1783</td><td>Chicago</td><td>United States</td><td>F</td><td>1975-01-30T00:00:00.000+0000</td><td>Event organiser</td></tr><tr><td>176647</td><td>Kayla Hall</td><td>kayla.hall@fake_gmail.com</td><td>(830)325-4994x4322</td><td>Chicago</td><td>United States</td><td>F</td><td>2003-10-17T00:00:00.000+0000</td><td>null</td></tr><tr><td>187466</td><td>Kayla Hall</td><td>kayla.hall@fake_gmail.com</td><td>273-218-4855</td><td>Chicago</td><td>United States</td><td>F</td><td>2004-01-15T00:00:00.000+0000</td><td>null</td></tr><tr><td>720395</td><td>Tony Seifert</td><td>tony.seifert@fake_aol.de</td><td>+49(0)9160 693338</td><td>Berlin</td><td>Deutschland</td><td>M</td><td>1996-12-06T00:00:00.000+0000</td><td>Technical author</td></tr><tr><td>896371</td><td>Tony Seifert</td><td>tony.seifert@fake_aol.de</td><td>01671 39429</td><td>Leipzig</td><td>Deutschland</td><td>M</td><td>2005-10-15T00:00:00.000+0000</td><td>null</td></tr><tr><td>216007</td><td>William Harper</td><td>william.harper@fake_yahoo.com</td><td>876.787.0312x6103</td><td>Houston</td><td>United States</td><td>M</td><td>1980-09-21T00:00:00.000+0000</td><td>Consulting civil engineer</td></tr><tr><td>116973</td><td>William Harper</td><td>william.harper@fake_yahoo.com</td><td>+1-685-251-3227</td><td>Los Angeles</td><td>United States</td><td>M</td><td>1985-04-12T00:00:00.000+0000</td><td>Administrator, education</td></tr><tr><td>1030486</td><td>William Harper</td><td>william.harper@fake_yahoo.com</td><td>802.381.3206x325</td><td>Liverpool</td><td>United Kingdom</td><td>M</td><td>1996-12-05T00:00:00.000+0000</td><td>Merchant navy officer</td></tr><tr><td>187306</td><td>William Harper</td><td>william.harper@fake_yahoo.com</td><td>6942060958</td><td>Chicago</td><td>United States</td><td>M</td><td>2005-02-09T00:00:00.000+0000</td><td>null</td></tr></tbody></table></div>"
      ]
     },
     "metadata": {
      "application/vnd.databricks.v1+output": {
       "addedWidgets": {},
       "aggData": [],
       "aggError": "",
       "aggOverflow": false,
       "aggSchema": [],
       "aggSeriesLimitReached": false,
       "aggType": "",
       "arguments": {},
       "columnCustomDisplayInfos": {},
       "data": [
        [
         183375,
         "Kayla Hall",
         "kayla.hall@fake_gmail.com",
         "(275)977-1783",
         "Chicago",
         "United States",
         "F",
         "1975-01-30T00:00:00.000+0000",
         "Event organiser"
        ],
        [
         176647,
         "Kayla Hall",
         "kayla.hall@fake_gmail.com",
         "(830)325-4994x4322",
         "Chicago",
         "United States",
         "F",
         "2003-10-17T00:00:00.000+0000",
         null
        ],
        [
         187466,
         "Kayla Hall",
         "kayla.hall@fake_gmail.com",
         "273-218-4855",
         "Chicago",
         "United States",
         "F",
         "2004-01-15T00:00:00.000+0000",
         null
        ],
        [
         720395,
         "Tony Seifert",
         "tony.seifert@fake_aol.de",
         "+49(0)9160 693338",
         "Berlin",
         "Deutschland",
         "M",
         "1996-12-06T00:00:00.000+0000",
         "Technical author"
        ],
        [
         896371,
         "Tony Seifert",
         "tony.seifert@fake_aol.de",
         "01671 39429",
         "Leipzig",
         "Deutschland",
         "M",
         "2005-10-15T00:00:00.000+0000",
         null
        ],
        [
         216007,
         "William Harper",
         "william.harper@fake_yahoo.com",
         "876.787.0312x6103",
         "Houston",
         "United States",
         "M",
         "1980-09-21T00:00:00.000+0000",
         "Consulting civil engineer"
        ],
        [
         116973,
         "William Harper",
         "william.harper@fake_yahoo.com",
         "+1-685-251-3227",
         "Los Angeles",
         "United States",
         "M",
         "1985-04-12T00:00:00.000+0000",
         "Administrator, education"
        ],
        [
         1030486,
         "William Harper",
         "william.harper@fake_yahoo.com",
         "802.381.3206x325",
         "Liverpool",
         "United Kingdom",
         "M",
         "1996-12-05T00:00:00.000+0000",
         "Merchant navy officer"
        ],
        [
         187306,
         "William Harper",
         "william.harper@fake_yahoo.com",
         "6942060958",
         "Chicago",
         "United States",
         "M",
         "2005-02-09T00:00:00.000+0000",
         null
        ]
       ],
       "datasetInfos": [],
       "dbfsResultPath": null,
       "isJsonSchema": true,
       "metadata": {},
       "overflow": false,
       "plotOptions": {
        "customPlotOptions": {},
        "displayType": "table",
        "pivotAggregation": null,
        "pivotColumns": null,
        "xColumns": null,
        "yColumns": null
       },
       "removedWidgets": [],
       "schema": [
        {
         "metadata": "{}",
         "name": "CustomerID",
         "type": "\"integer\""
        },
        {
         "metadata": "{}",
         "name": "Name",
         "type": "\"string\""
        },
        {
         "metadata": "{}",
         "name": "Email",
         "type": "\"string\""
        },
        {
         "metadata": "{}",
         "name": "Telephone",
         "type": "\"string\""
        },
        {
         "metadata": "{}",
         "name": "City",
         "type": "\"string\""
        },
        {
         "metadata": "{}",
         "name": "Country",
         "type": "\"string\""
        },
        {
         "metadata": "{}",
         "name": "Gender",
         "type": "\"string\""
        },
        {
         "metadata": "{}",
         "name": "DateOfBirth",
         "type": "\"timestamp\""
        },
        {
         "metadata": "{}",
         "name": "JobTitle",
         "type": "\"string\""
        }
       ],
       "type": "table"
      }
     },
     "output_type": "display_data"
    }
   ],
   "source": [
    "%sql\n",
    "--vendo alguns dos casos em que o mesmo email pertence a clientes distintos\n",
    "SELECT *\n",
    "FROM fsilver.sclientes\n",
    "WHERE Email IN (\n",
    "  'tony.seifert@fake_aol.de', 'william.harper@fake_yahoo.com', 'kayla.hall@fake_gmail.com'\n",
    ")\n",
    "ORDER BY Name, DateOfBirth ASC"
   ]
  },
  {
   "cell_type": "code",
   "execution_count": 0,
   "metadata": {
    "application/vnd.databricks.v1+cell": {
     "cellMetadata": {
      "byteLimit": 2048000,
      "implicitDf": true,
      "rowLimit": 10000
     },
     "inputWidgets": {},
     "nuid": "f9edeed5-4f8a-4529-a2c5-71757f8ad366",
     "showTitle": false,
     "tableResultSettingsMap": {},
     "title": ""
    }
   },
   "outputs": [
    {
     "output_type": "display_data",
     "data": {
      "text/html": [
       "<style scoped>\n",
       "  .table-result-container {\n",
       "    max-height: 300px;\n",
       "    overflow: auto;\n",
       "  }\n",
       "  table, th, td {\n",
       "    border: 1px solid black;\n",
       "    border-collapse: collapse;\n",
       "  }\n",
       "  th, td {\n",
       "    padding: 5px;\n",
       "  }\n",
       "  th {\n",
       "    text-align: left;\n",
       "  }\n",
       "</style><div class='table-result-container'><table class='table-result'><thead style='background-color: white'><tr><th>Email</th><th>num_datas_nascimento</th></tr></thead><tbody><tr><td>linda.arnold@fake_gmail.com</td><td>1</td></tr><tr><td>vincent.marty@fake_wanadoo.fr</td><td>1</td></tr><tr><td>康琳@fake_hotmail.com</td><td>1</td></tr><tr><td>武娜@fake_yahoo.com</td><td>1</td></tr><tr><td>谭鑫@fake_hotmail.com</td><td>1</td></tr><tr><td>郎兰英@fake_gmail.com</td><td>1</td></tr><tr><td>mary.lloyd@fake_gmail.com</td><td>1</td></tr><tr><td>michelle.fields@fake_hotmail.com</td><td>1</td></tr><tr><td>ryan.lowe@fake_gmail.com</td><td>1</td></tr><tr><td>katie.murphy@fake_gmail.com</td><td>1</td></tr></tbody></table></div>"
      ]
     },
     "metadata": {
      "application/vnd.databricks.v1+output": {
       "addedWidgets": {},
       "aggData": [],
       "aggError": "",
       "aggOverflow": false,
       "aggSchema": [],
       "aggSeriesLimitReached": false,
       "aggType": "",
       "arguments": {},
       "columnCustomDisplayInfos": {},
       "data": [
        [
         "linda.arnold@fake_gmail.com",
         1
        ],
        [
         "vincent.marty@fake_wanadoo.fr",
         1
        ],
        [
         "康琳@fake_hotmail.com",
         1
        ],
        [
         "武娜@fake_yahoo.com",
         1
        ],
        [
         "谭鑫@fake_hotmail.com",
         1
        ],
        [
         "郎兰英@fake_gmail.com",
         1
        ],
        [
         "mary.lloyd@fake_gmail.com",
         1
        ],
        [
         "michelle.fields@fake_hotmail.com",
         1
        ],
        [
         "ryan.lowe@fake_gmail.com",
         1
        ],
        [
         "katie.murphy@fake_gmail.com",
         1
        ]
       ],
       "datasetInfos": [],
       "dbfsResultPath": null,
       "isJsonSchema": true,
       "metadata": {},
       "overflow": false,
       "plotOptions": {
        "customPlotOptions": {},
        "displayType": "table",
        "pivotAggregation": null,
        "pivotColumns": null,
        "xColumns": null,
        "yColumns": null
       },
       "removedWidgets": [],
       "schema": [
        {
         "metadata": "{}",
         "name": "Email",
         "type": "\"string\""
        },
        {
         "metadata": "{}",
         "name": "num_datas_nascimento",
         "type": "\"long\""
        }
       ],
       "type": "table"
      }
     },
     "output_type": "display_data"
    }
   ],
   "source": [
    "%sql\n",
    "--verificar se os casos em que o mesmo e-mail pertence a mais de um cliente são casos de homônimos, verificando se as datas de nascimento são diferentes\n",
    "SELECT Email, COUNT(DISTINCT DateOfBirth) AS num_datas_nascimento\n",
    "FROM fsilver.sclientes\n",
    "WHERE Email IN (\n",
    "    SELECT Email FROM fsilver.sclientes GROUP BY Email HAVING COUNT(DISTINCT CustomerID) > 1\n",
    ")\n",
    "GROUP BY Email\n",
    "HAVING num_datas_nascimento = 1\n",
    "LIMIT 10"
   ]
  },
  {
   "cell_type": "markdown",
   "metadata": {
    "application/vnd.databricks.v1+cell": {
     "cellMetadata": {
      "byteLimit": 2048000,
      "rowLimit": 10000
     },
     "inputWidgets": {},
     "nuid": "94ee7dec-f448-4ffa-89a2-b3f361894701",
     "showTitle": false,
     "tableResultSettingsMap": {},
     "title": ""
    }
   },
   "source": [
    "Como há pouquíssimos casos em que a data de nascimento do cliente é a mesma, infere-se que se trata de homônimos, ou seja, não se trata do mesmo cliente, vamos atualizar a coluna Email da tabela para NULL para lidar com essa inconsistência"
   ]
  },
  {
   "cell_type": "code",
   "execution_count": 0,
   "metadata": {
    "application/vnd.databricks.v1+cell": {
     "cellMetadata": {
      "byteLimit": 2048000,
      "rowLimit": 10000
     },
     "inputWidgets": {},
     "nuid": "dc6b6db5-168d-4ad8-885d-2c902cefa65f",
     "showTitle": false,
     "tableResultSettingsMap": {},
     "title": ""
    }
   },
   "outputs": [],
   "source": [
    "%sql\n",
    "--verificando a quantidade de registros com Email = NULL antes de atualizá-los para comparar a quantidade atualizada depois"
   ]
  },
  {
   "cell_type": "code",
   "execution_count": 0,
   "metadata": {
    "application/vnd.databricks.v1+cell": {
     "cellMetadata": {
      "byteLimit": 2048000,
      "implicitDf": true,
      "rowLimit": 10000
     },
     "inputWidgets": {},
     "nuid": "eb281318-c4da-4c58-a5ed-60bf71ba6814",
     "showTitle": false,
     "tableResultSettingsMap": {},
     "title": ""
    }
   },
   "outputs": [
    {
     "output_type": "display_data",
     "data": {
      "text/html": [
       "<style scoped>\n",
       "  .table-result-container {\n",
       "    max-height: 300px;\n",
       "    overflow: auto;\n",
       "  }\n",
       "  table, th, td {\n",
       "    border: 1px solid black;\n",
       "    border-collapse: collapse;\n",
       "  }\n",
       "  th, td {\n",
       "    padding: 5px;\n",
       "  }\n",
       "  th {\n",
       "    text-align: left;\n",
       "  }\n",
       "</style><div class='table-result-container'><table class='table-result'><thead style='background-color: white'><tr><th>count(CustomerID)</th></tr></thead><tbody><tr><td>0</td></tr></tbody></table></div>"
      ]
     },
     "metadata": {
      "application/vnd.databricks.v1+output": {
       "addedWidgets": {},
       "aggData": [],
       "aggError": "",
       "aggOverflow": false,
       "aggSchema": [],
       "aggSeriesLimitReached": false,
       "aggType": "",
       "arguments": {},
       "columnCustomDisplayInfos": {},
       "data": [
        [
         0
        ]
       ],
       "datasetInfos": [],
       "dbfsResultPath": null,
       "isJsonSchema": true,
       "metadata": {},
       "overflow": false,
       "plotOptions": {
        "customPlotOptions": {},
        "displayType": "table",
        "pivotAggregation": null,
        "pivotColumns": null,
        "xColumns": null,
        "yColumns": null
       },
       "removedWidgets": [],
       "schema": [
        {
         "metadata": "{\"__autoGeneratedAlias\":\"true\"}",
         "name": "count(CustomerID)",
         "type": "\"long\""
        }
       ],
       "type": "table"
      }
     },
     "output_type": "display_data"
    }
   ],
   "source": [
    "%sql\n",
    "SELECT COUNT(CustomerID) FROM fsilver.sclientes WHERE Email IS NULL"
   ]
  },
  {
   "cell_type": "code",
   "execution_count": 0,
   "metadata": {
    "application/vnd.databricks.v1+cell": {
     "cellMetadata": {
      "byteLimit": 2048000,
      "implicitDf": true,
      "rowLimit": 10000
     },
     "inputWidgets": {},
     "nuid": "5109dc41-dd76-45fd-b7d8-e9858ffb094b",
     "showTitle": false,
     "tableResultSettingsMap": {},
     "title": ""
    }
   },
   "outputs": [
    {
     "output_type": "display_data",
     "data": {
      "text/html": [
       "<style scoped>\n",
       "  .table-result-container {\n",
       "    max-height: 300px;\n",
       "    overflow: auto;\n",
       "  }\n",
       "  table, th, td {\n",
       "    border: 1px solid black;\n",
       "    border-collapse: collapse;\n",
       "  }\n",
       "  th, td {\n",
       "    padding: 5px;\n",
       "  }\n",
       "  th {\n",
       "    text-align: left;\n",
       "  }\n",
       "</style><div class='table-result-container'><table class='table-result'><thead style='background-color: white'><tr><th>num_affected_rows</th></tr></thead><tbody><tr><td>692263</td></tr></tbody></table></div>"
      ]
     },
     "metadata": {
      "application/vnd.databricks.v1+output": {
       "addedWidgets": {},
       "aggData": [],
       "aggError": "",
       "aggOverflow": false,
       "aggSchema": [],
       "aggSeriesLimitReached": false,
       "aggType": "",
       "arguments": {},
       "columnCustomDisplayInfos": {},
       "data": [
        [
         692263
        ]
       ],
       "datasetInfos": [],
       "dbfsResultPath": null,
       "isJsonSchema": true,
       "metadata": {},
       "overflow": false,
       "plotOptions": {
        "customPlotOptions": {},
        "displayType": "table",
        "pivotAggregation": null,
        "pivotColumns": null,
        "xColumns": null,
        "yColumns": null
       },
       "removedWidgets": [],
       "schema": [
        {
         "metadata": "{}",
         "name": "num_affected_rows",
         "type": "\"long\""
        }
       ],
       "type": "table"
      }
     },
     "output_type": "display_data"
    }
   ],
   "source": [
    "%sql\n",
    "UPDATE fsilver.sclientes \n",
    "SET Email = NULL \n",
    "WHERE Email IN (\n",
    "    SELECT Email FROM fsilver.sclientes GROUP BY Email HAVING COUNT(DISTINCT CustomerID) > 1\n",
    ")"
   ]
  },
  {
   "cell_type": "code",
   "execution_count": 0,
   "metadata": {
    "application/vnd.databricks.v1+cell": {
     "cellMetadata": {
      "byteLimit": 2048000,
      "implicitDf": true,
      "rowLimit": 10000
     },
     "inputWidgets": {},
     "nuid": "2fd9012f-0a72-45e3-a430-55bf9cb06f2d",
     "showTitle": false,
     "tableResultSettingsMap": {},
     "title": ""
    }
   },
   "outputs": [
    {
     "output_type": "display_data",
     "data": {
      "text/html": [
       "<style scoped>\n",
       "  .table-result-container {\n",
       "    max-height: 300px;\n",
       "    overflow: auto;\n",
       "  }\n",
       "  table, th, td {\n",
       "    border: 1px solid black;\n",
       "    border-collapse: collapse;\n",
       "  }\n",
       "  th, td {\n",
       "    padding: 5px;\n",
       "  }\n",
       "  th {\n",
       "    text-align: left;\n",
       "  }\n",
       "</style><div class='table-result-container'><table class='table-result'><thead style='background-color: white'><tr><th>count(CustomerID)</th></tr></thead><tbody><tr><td>692263</td></tr></tbody></table></div>"
      ]
     },
     "metadata": {
      "application/vnd.databricks.v1+output": {
       "addedWidgets": {},
       "aggData": [],
       "aggError": "",
       "aggOverflow": false,
       "aggSchema": [],
       "aggSeriesLimitReached": false,
       "aggType": "",
       "arguments": {},
       "columnCustomDisplayInfos": {},
       "data": [
        [
         692263
        ]
       ],
       "datasetInfos": [],
       "dbfsResultPath": null,
       "isJsonSchema": true,
       "metadata": {},
       "overflow": false,
       "plotOptions": {
        "customPlotOptions": {},
        "displayType": "table",
        "pivotAggregation": null,
        "pivotColumns": null,
        "xColumns": null,
        "yColumns": null
       },
       "removedWidgets": [],
       "schema": [
        {
         "metadata": "{\"__autoGeneratedAlias\":\"true\"}",
         "name": "count(CustomerID)",
         "type": "\"long\""
        }
       ],
       "type": "table"
      }
     },
     "output_type": "display_data"
    }
   ],
   "source": [
    "%sql\n",
    "--verificando a quantidade de Email NULL depois da atualização\n",
    "SELECT COUNT(CustomerID) FROM fsilver.sclientes WHERE Email IS NULL"
   ]
  },
  {
   "cell_type": "markdown",
   "metadata": {
    "application/vnd.databricks.v1+cell": {
     "cellMetadata": {
      "byteLimit": 2048000,
      "rowLimit": 10000
     },
     "inputWidgets": {},
     "nuid": "35ada530-1edb-4b75-91ba-440416600a4b",
     "showTitle": false,
     "tableResultSettingsMap": {},
     "title": ""
    }
   },
   "source": [
    "Fazendo a mesma verificação feita para o e-mail, mas agora para telefone"
   ]
  },
  {
   "cell_type": "code",
   "execution_count": 0,
   "metadata": {
    "application/vnd.databricks.v1+cell": {
     "cellMetadata": {
      "byteLimit": 2048000,
      "implicitDf": true,
      "rowLimit": 10000
     },
     "inputWidgets": {},
     "nuid": "d7e3e52d-b7e5-4671-b93b-fc31de529ec1",
     "showTitle": false,
     "tableResultSettingsMap": {},
     "title": ""
    }
   },
   "outputs": [
    {
     "output_type": "display_data",
     "data": {
      "text/html": [
       "<style scoped>\n",
       "  .table-result-container {\n",
       "    max-height: 300px;\n",
       "    overflow: auto;\n",
       "  }\n",
       "  table, th, td {\n",
       "    border: 1px solid black;\n",
       "    border-collapse: collapse;\n",
       "  }\n",
       "  th, td {\n",
       "    padding: 5px;\n",
       "  }\n",
       "  th {\n",
       "    text-align: left;\n",
       "  }\n",
       "</style><div class='table-result-container'><table class='table-result'><thead style='background-color: white'><tr><th>Telephone</th><th>num_clientes</th></tr></thead><tbody><tr><td>+34 820972730</td><td>2</td></tr><tr><td>15690646361</td><td>2</td></tr><tr><td>+351962248322</td><td>2</td></tr><tr><td>08093 84040</td><td>2</td></tr><tr><td>+34 823 407 769</td><td>2</td></tr><tr><td>02 48 26 65 08</td><td>2</td></tr><tr><td>03 57 29 27 44</td><td>2</td></tr><tr><td>(351) 919 379 652</td><td>2</td></tr><tr><td>18224980430</td><td>2</td></tr><tr><td>18913346308</td><td>2</td></tr></tbody></table></div>"
      ]
     },
     "metadata": {
      "application/vnd.databricks.v1+output": {
       "addedWidgets": {},
       "aggData": [],
       "aggError": "",
       "aggOverflow": false,
       "aggSchema": [],
       "aggSeriesLimitReached": false,
       "aggType": "",
       "arguments": {},
       "columnCustomDisplayInfos": {},
       "data": [
        [
         "+34 820972730",
         2
        ],
        [
         "15690646361",
         2
        ],
        [
         "+351962248322",
         2
        ],
        [
         "08093 84040",
         2
        ],
        [
         "+34 823 407 769",
         2
        ],
        [
         "02 48 26 65 08",
         2
        ],
        [
         "03 57 29 27 44",
         2
        ],
        [
         "(351) 919 379 652",
         2
        ],
        [
         "18224980430",
         2
        ],
        [
         "18913346308",
         2
        ]
       ],
       "datasetInfos": [],
       "dbfsResultPath": null,
       "isJsonSchema": true,
       "metadata": {},
       "overflow": false,
       "plotOptions": {
        "customPlotOptions": {},
        "displayType": "table",
        "pivotAggregation": null,
        "pivotColumns": null,
        "xColumns": null,
        "yColumns": null
       },
       "removedWidgets": [],
       "schema": [
        {
         "metadata": "{}",
         "name": "Telephone",
         "type": "\"string\""
        },
        {
         "metadata": "{}",
         "name": "num_clientes",
         "type": "\"long\""
        }
       ],
       "type": "table"
      }
     },
     "output_type": "display_data"
    }
   ],
   "source": [
    "%sql\n",
    "--verificar se o mesmo telefone pertence a clientes diferentes\n",
    "SELECT Telephone, COUNT(DISTINCT CustomerID) AS num_clientes\n",
    "FROM fsilver.sclientes\n",
    "GROUP BY Telephone\n",
    "HAVING num_clientes > 1\n",
    "LIMIT 10"
   ]
  },
  {
   "cell_type": "code",
   "execution_count": 0,
   "metadata": {
    "application/vnd.databricks.v1+cell": {
     "cellMetadata": {
      "byteLimit": 2048000,
      "implicitDf": true,
      "rowLimit": 10000
     },
     "inputWidgets": {},
     "nuid": "e2ed99f5-918c-4974-9b25-2225ef7fa5a2",
     "showTitle": false,
     "tableResultSettingsMap": {},
     "title": ""
    }
   },
   "outputs": [
    {
     "output_type": "display_data",
     "data": {
      "text/html": [
       "<style scoped>\n",
       "  .table-result-container {\n",
       "    max-height: 300px;\n",
       "    overflow: auto;\n",
       "  }\n",
       "  table, th, td {\n",
       "    border: 1px solid black;\n",
       "    border-collapse: collapse;\n",
       "  }\n",
       "  th, td {\n",
       "    padding: 5px;\n",
       "  }\n",
       "  th {\n",
       "    text-align: left;\n",
       "  }\n",
       "</style><div class='table-result-container'><table class='table-result'><thead style='background-color: white'><tr><th>Telephone</th><th>num_datas_nascimento</th></tr></thead><tbody></tbody></table></div>"
      ]
     },
     "metadata": {
      "application/vnd.databricks.v1+output": {
       "addedWidgets": {},
       "aggData": [],
       "aggError": "",
       "aggOverflow": false,
       "aggSchema": [],
       "aggSeriesLimitReached": false,
       "aggType": "",
       "arguments": {},
       "columnCustomDisplayInfos": {},
       "data": [],
       "datasetInfos": [],
       "dbfsResultPath": null,
       "isJsonSchema": true,
       "metadata": {},
       "overflow": false,
       "plotOptions": {
        "customPlotOptions": {},
        "displayType": "table",
        "pivotAggregation": null,
        "pivotColumns": null,
        "xColumns": null,
        "yColumns": null
       },
       "removedWidgets": [],
       "schema": [
        {
         "metadata": "{}",
         "name": "Telephone",
         "type": "\"string\""
        },
        {
         "metadata": "{}",
         "name": "num_datas_nascimento",
         "type": "\"long\""
        }
       ],
       "type": "table"
      }
     },
     "output_type": "display_data"
    }
   ],
   "source": [
    "%sql\n",
    "--verificar se os casos em que o mesmo telefone pertence a mais de um cliente são casos de homônimos, através da checagem de datas de nascimento diferentes\n",
    "SELECT Telephone, COUNT(DISTINCT DateOfBirth) AS num_datas_nascimento\n",
    "FROM fsilver.sclientes\n",
    "WHERE Telephone IN (\n",
    "    SELECT Telephone FROM fsilver.sclientes GROUP BY Telephone HAVING COUNT(DISTINCT CustomerID) > 1\n",
    ")\n",
    "GROUP BY Telephone\n",
    "HAVING num_datas_nascimento = 1"
   ]
  },
  {
   "cell_type": "markdown",
   "metadata": {
    "application/vnd.databricks.v1+cell": {
     "cellMetadata": {
      "byteLimit": 2048000,
      "rowLimit": 10000
     },
     "inputWidgets": {},
     "nuid": "721ceb6e-a072-4981-9778-abaa8f81a196",
     "showTitle": false,
     "tableResultSettingsMap": {},
     "title": ""
    }
   },
   "source": [
    "Não há casos em que a data de nascimento dos clientes é a mesma. Admite-se que se trata de homônimo. Será usada a mesma abordagem usada para o tratamento de e-mails iguais, deixando os telefones como NULL"
   ]
  },
  {
   "cell_type": "code",
   "execution_count": 0,
   "metadata": {
    "application/vnd.databricks.v1+cell": {
     "cellMetadata": {
      "byteLimit": 2048000,
      "implicitDf": true,
      "rowLimit": 10000
     },
     "inputWidgets": {},
     "nuid": "ddc6776a-1be3-4067-a09e-7b56bd441c09",
     "showTitle": false,
     "tableResultSettingsMap": {},
     "title": ""
    }
   },
   "outputs": [
    {
     "output_type": "display_data",
     "data": {
      "text/html": [
       "<style scoped>\n",
       "  .table-result-container {\n",
       "    max-height: 300px;\n",
       "    overflow: auto;\n",
       "  }\n",
       "  table, th, td {\n",
       "    border: 1px solid black;\n",
       "    border-collapse: collapse;\n",
       "  }\n",
       "  th, td {\n",
       "    padding: 5px;\n",
       "  }\n",
       "  th {\n",
       "    text-align: left;\n",
       "  }\n",
       "</style><div class='table-result-container'><table class='table-result'><thead style='background-color: white'><tr><th>count(CustomerID)</th></tr></thead><tbody><tr><td>0</td></tr></tbody></table></div>"
      ]
     },
     "metadata": {
      "application/vnd.databricks.v1+output": {
       "addedWidgets": {},
       "aggData": [],
       "aggError": "",
       "aggOverflow": false,
       "aggSchema": [],
       "aggSeriesLimitReached": false,
       "aggType": "",
       "arguments": {},
       "columnCustomDisplayInfos": {},
       "data": [
        [
         0
        ]
       ],
       "datasetInfos": [],
       "dbfsResultPath": null,
       "isJsonSchema": true,
       "metadata": {},
       "overflow": false,
       "plotOptions": {
        "customPlotOptions": {},
        "displayType": "table",
        "pivotAggregation": null,
        "pivotColumns": null,
        "xColumns": null,
        "yColumns": null
       },
       "removedWidgets": [],
       "schema": [
        {
         "metadata": "{\"__autoGeneratedAlias\":\"true\"}",
         "name": "count(CustomerID)",
         "type": "\"long\""
        }
       ],
       "type": "table"
      }
     },
     "output_type": "display_data"
    }
   ],
   "source": [
    "%sql\n",
    "--verificando a quantidade de Telefones NULL antes da atualização\n",
    "SELECT COUNT(CustomerID) FROM fsilver.sclientes WHERE Telephone IS NULL"
   ]
  },
  {
   "cell_type": "code",
   "execution_count": 0,
   "metadata": {
    "application/vnd.databricks.v1+cell": {
     "cellMetadata": {
      "byteLimit": 2048000,
      "implicitDf": true,
      "rowLimit": 10000
     },
     "inputWidgets": {},
     "nuid": "771db2b4-5fab-4656-81ef-6afa016fff48",
     "showTitle": false,
     "tableResultSettingsMap": {},
     "title": ""
    }
   },
   "outputs": [
    {
     "output_type": "display_data",
     "data": {
      "text/html": [
       "<style scoped>\n",
       "  .table-result-container {\n",
       "    max-height: 300px;\n",
       "    overflow: auto;\n",
       "  }\n",
       "  table, th, td {\n",
       "    border: 1px solid black;\n",
       "    border-collapse: collapse;\n",
       "  }\n",
       "  th, td {\n",
       "    padding: 5px;\n",
       "  }\n",
       "  th {\n",
       "    text-align: left;\n",
       "  }\n",
       "</style><div class='table-result-container'><table class='table-result'><thead style='background-color: white'><tr><th>num_affected_rows</th></tr></thead><tbody><tr><td>216</td></tr></tbody></table></div>"
      ]
     },
     "metadata": {
      "application/vnd.databricks.v1+output": {
       "addedWidgets": {},
       "aggData": [],
       "aggError": "",
       "aggOverflow": false,
       "aggSchema": [],
       "aggSeriesLimitReached": false,
       "aggType": "",
       "arguments": {},
       "columnCustomDisplayInfos": {},
       "data": [
        [
         216
        ]
       ],
       "datasetInfos": [],
       "dbfsResultPath": null,
       "isJsonSchema": true,
       "metadata": {},
       "overflow": false,
       "plotOptions": {
        "customPlotOptions": {},
        "displayType": "table",
        "pivotAggregation": null,
        "pivotColumns": null,
        "xColumns": null,
        "yColumns": null
       },
       "removedWidgets": [],
       "schema": [
        {
         "metadata": "{}",
         "name": "num_affected_rows",
         "type": "\"long\""
        }
       ],
       "type": "table"
      }
     },
     "output_type": "display_data"
    }
   ],
   "source": [
    "%sql\n",
    "UPDATE fsilver.sclientes \n",
    "SET Telephone = NULL \n",
    "WHERE Telephone IN (\n",
    "    SELECT Telephone FROM fsilver.sclientes GROUP BY Telephone HAVING COUNT(DISTINCT CustomerID) > 1\n",
    ")"
   ]
  },
  {
   "cell_type": "code",
   "execution_count": 0,
   "metadata": {
    "application/vnd.databricks.v1+cell": {
     "cellMetadata": {
      "byteLimit": 2048000,
      "implicitDf": true,
      "rowLimit": 10000
     },
     "inputWidgets": {},
     "nuid": "f001b39d-cfcd-42c2-8ea3-cf1d75309f41",
     "showTitle": false,
     "tableResultSettingsMap": {},
     "title": ""
    }
   },
   "outputs": [
    {
     "output_type": "display_data",
     "data": {
      "text/html": [
       "<style scoped>\n",
       "  .table-result-container {\n",
       "    max-height: 300px;\n",
       "    overflow: auto;\n",
       "  }\n",
       "  table, th, td {\n",
       "    border: 1px solid black;\n",
       "    border-collapse: collapse;\n",
       "  }\n",
       "  th, td {\n",
       "    padding: 5px;\n",
       "  }\n",
       "  th {\n",
       "    text-align: left;\n",
       "  }\n",
       "</style><div class='table-result-container'><table class='table-result'><thead style='background-color: white'><tr><th>count(CustomerID)</th></tr></thead><tbody><tr><td>216</td></tr></tbody></table></div>"
      ]
     },
     "metadata": {
      "application/vnd.databricks.v1+output": {
       "addedWidgets": {},
       "aggData": [],
       "aggError": "",
       "aggOverflow": false,
       "aggSchema": [],
       "aggSeriesLimitReached": false,
       "aggType": "",
       "arguments": {},
       "columnCustomDisplayInfos": {},
       "data": [
        [
         216
        ]
       ],
       "datasetInfos": [],
       "dbfsResultPath": null,
       "isJsonSchema": true,
       "metadata": {},
       "overflow": false,
       "plotOptions": {
        "customPlotOptions": {},
        "displayType": "table",
        "pivotAggregation": null,
        "pivotColumns": null,
        "xColumns": null,
        "yColumns": null
       },
       "removedWidgets": [],
       "schema": [
        {
         "metadata": "{\"__autoGeneratedAlias\":\"true\"}",
         "name": "count(CustomerID)",
         "type": "\"long\""
        }
       ],
       "type": "table"
      }
     },
     "output_type": "display_data"
    }
   ],
   "source": [
    "%sql\n",
    "--verificando a quantidade de Telefones NULL depois da atualização\n",
    "SELECT COUNT(CustomerID) FROM fsilver.sclientes WHERE Telephone IS NULL"
   ]
  },
  {
   "cell_type": "markdown",
   "metadata": {
    "application/vnd.databricks.v1+cell": {
     "cellMetadata": {
      "byteLimit": 2048000,
      "rowLimit": 10000
     },
     "inputWidgets": {},
     "nuid": "f8165d18-93d6-4ce9-89a4-02312e76e7b6",
     "showTitle": false,
     "tableResultSettingsMap": {},
     "title": ""
    }
   },
   "source": [
    "## 5.2) Respostas das questões levantadas"
   ]
  },
  {
   "cell_type": "code",
   "execution_count": 0,
   "metadata": {
    "application/vnd.databricks.v1+cell": {
     "cellMetadata": {
      "byteLimit": 2048000,
      "implicitDf": true,
      "rowLimit": 10000
     },
     "inputWidgets": {},
     "nuid": "b0afc913-0c2b-4239-a46c-ae30d1a92f44",
     "showTitle": true,
     "tableResultSettingsMap": {},
     "title": "Apagando o database \"fgold\" para ser recriado"
    }
   },
   "outputs": [
    {
     "output_type": "display_data",
     "data": {
      "text/html": [
       "<style scoped>\n",
       "  .table-result-container {\n",
       "    max-height: 300px;\n",
       "    overflow: auto;\n",
       "  }\n",
       "  table, th, td {\n",
       "    border: 1px solid black;\n",
       "    border-collapse: collapse;\n",
       "  }\n",
       "  th, td {\n",
       "    padding: 5px;\n",
       "  }\n",
       "  th {\n",
       "    text-align: left;\n",
       "  }\n",
       "</style><div class='table-result-container'><table class='table-result'><thead style='background-color: white'><tr></tr></thead><tbody></tbody></table></div>"
      ]
     },
     "metadata": {
      "application/vnd.databricks.v1+output": {
       "addedWidgets": {},
       "aggData": [],
       "aggError": "",
       "aggOverflow": false,
       "aggSchema": [],
       "aggSeriesLimitReached": false,
       "aggType": "",
       "arguments": {},
       "columnCustomDisplayInfos": {},
       "data": [],
       "datasetInfos": [],
       "dbfsResultPath": null,
       "isJsonSchema": true,
       "metadata": {},
       "overflow": false,
       "plotOptions": {
        "customPlotOptions": {},
        "displayType": "table",
        "pivotAggregation": null,
        "pivotColumns": null,
        "xColumns": null,
        "yColumns": null
       },
       "removedWidgets": [],
       "schema": [],
       "type": "table"
      }
     },
     "output_type": "display_data"
    }
   ],
   "source": [
    "%sql DROP DATABASE IF EXISTS fgold CASCADE;"
   ]
  },
  {
   "cell_type": "code",
   "execution_count": 0,
   "metadata": {
    "application/vnd.databricks.v1+cell": {
     "cellMetadata": {
      "byteLimit": 2048000,
      "implicitDf": true,
      "rowLimit": 10000
     },
     "inputWidgets": {},
     "nuid": "deb8bac2-94a0-4355-8a39-f84685d21b61",
     "showTitle": true,
     "tableResultSettingsMap": {},
     "title": "Recriando o database \"fgold\""
    }
   },
   "outputs": [
    {
     "output_type": "display_data",
     "data": {
      "text/html": [
       "<style scoped>\n",
       "  .table-result-container {\n",
       "    max-height: 300px;\n",
       "    overflow: auto;\n",
       "  }\n",
       "  table, th, td {\n",
       "    border: 1px solid black;\n",
       "    border-collapse: collapse;\n",
       "  }\n",
       "  th, td {\n",
       "    padding: 5px;\n",
       "  }\n",
       "  th {\n",
       "    text-align: left;\n",
       "  }\n",
       "</style><div class='table-result-container'><table class='table-result'><thead style='background-color: white'><tr></tr></thead><tbody></tbody></table></div>"
      ]
     },
     "metadata": {
      "application/vnd.databricks.v1+output": {
       "addedWidgets": {},
       "aggData": [],
       "aggError": "",
       "aggOverflow": false,
       "aggSchema": [],
       "aggSeriesLimitReached": false,
       "aggType": "",
       "arguments": {},
       "columnCustomDisplayInfos": {},
       "data": [],
       "datasetInfos": [],
       "dbfsResultPath": null,
       "isJsonSchema": true,
       "metadata": {},
       "overflow": false,
       "plotOptions": {
        "customPlotOptions": {},
        "displayType": "table",
        "pivotAggregation": null,
        "pivotColumns": null,
        "xColumns": null,
        "yColumns": null
       },
       "removedWidgets": [],
       "schema": [],
       "type": "table"
      }
     },
     "output_type": "display_data"
    }
   ],
   "source": [
    "%sql CREATE DATABASE fgold;"
   ]
  },
  {
   "cell_type": "code",
   "execution_count": 0,
   "metadata": {
    "application/vnd.databricks.v1+cell": {
     "cellMetadata": {
      "byteLimit": 2048000,
      "rowLimit": 10000
     },
     "inputWidgets": {},
     "nuid": "7a01caff-09ed-4725-9c0b-1f1919029e1c",
     "showTitle": true,
     "tableResultSettingsMap": {},
     "title": "Criação das tabelas na camada gold"
    }
   },
   "outputs": [],
   "source": [
    "# Salvando as tabelas no banco de dados fgold\n",
    "\n",
    "# Tabela fato: gfato_transacoes\n",
    "spark.table(\"fsilver.stransacoes\").write.mode(\"overwrite\").saveAsTable(\"fgold.fato_transacoes\")\n",
    "\n",
    "# Tabelas dimensão copiadas diretamente da cama silver, já foram tratadas e atualizadas com SQL nos casos em que foi preciso\n",
    "spark.table(\"fsilver.sclientes\").write.mode(\"overwrite\").saveAsTable(\"fgold.dim_clientes\")\n",
    "spark.table(\"fsilver.sprodutos\").write.mode(\"overwrite\").saveAsTable(\"fgold.dim_produtos\")\n",
    "spark.table(\"fsilver.slojas\").write.mode(\"overwrite\").saveAsTable(\"fgold.dim_lojas\")\n",
    "spark.table(\"fsilver.sfuncionarios\").write.mode(\"overwrite\").saveAsTable(\"fgold.dim_funcionarios\")"
   ]
  },
  {
   "cell_type": "code",
   "execution_count": 0,
   "metadata": {
    "application/vnd.databricks.v1+cell": {
     "cellMetadata": {
      "byteLimit": 2048000,
      "implicitDf": true,
      "rowLimit": 10000
     },
     "inputWidgets": {},
     "nuid": "a3e5aeef-de5b-4739-ad48-8d78bb3f76e9",
     "showTitle": true,
     "tableResultSettingsMap": {},
     "title": "Resposta 1: categoria mais vendida"
    }
   },
   "outputs": [
    {
     "output_type": "display_data",
     "data": {
      "text/html": [
       "<style scoped>\n",
       "  .table-result-container {\n",
       "    max-height: 300px;\n",
       "    overflow: auto;\n",
       "  }\n",
       "  table, th, td {\n",
       "    border: 1px solid black;\n",
       "    border-collapse: collapse;\n",
       "  }\n",
       "  th, td {\n",
       "    padding: 5px;\n",
       "  }\n",
       "  th {\n",
       "    text-align: left;\n",
       "  }\n",
       "</style><div class='table-result-container'><table class='table-result'><thead style='background-color: white'><tr><th>Category</th><th>qtdade_vendida</th></tr></thead><tbody><tr><td>Feminine</td><td>2717872</td></tr><tr><td>Masculine</td><td>2230861</td></tr><tr><td>Children</td><td>696294</td></tr></tbody></table></div>"
      ]
     },
     "metadata": {
      "application/vnd.databricks.v1+output": {
       "addedWidgets": {},
       "aggData": [],
       "aggError": "",
       "aggOverflow": false,
       "aggSchema": [],
       "aggSeriesLimitReached": false,
       "aggType": "",
       "arguments": {},
       "columnCustomDisplayInfos": {},
       "data": [
        [
         "Feminine",
         2717872
        ],
        [
         "Masculine",
         2230861
        ],
        [
         "Children",
         696294
        ]
       ],
       "datasetInfos": [],
       "dbfsResultPath": null,
       "isJsonSchema": true,
       "metadata": {},
       "overflow": false,
       "plotOptions": {
        "customPlotOptions": {},
        "displayType": "table",
        "pivotAggregation": null,
        "pivotColumns": null,
        "xColumns": null,
        "yColumns": null
       },
       "removedWidgets": [],
       "schema": [
        {
         "metadata": "{}",
         "name": "Category",
         "type": "\"string\""
        },
        {
         "metadata": "{}",
         "name": "qtdade_vendida",
         "type": "\"long\""
        }
       ],
       "type": "table"
      }
     },
     "output_type": "display_data"
    }
   ],
   "source": [
    "%sql\n",
    "SELECT p.Category, COUNT(t.ProductID) AS qtdade_vendida\n",
    "FROM fgold.fato_transacoes t LEFT JOIN fgold.dim_produtos p\n",
    "  ON t.ProductID = p.ProductID\n",
    "WHERE TransactionType = 'Sale'\n",
    "GROUP BY p.Category\n",
    "ORDER BY qtdade_vendida DESC"
   ]
  },
  {
   "cell_type": "markdown",
   "metadata": {
    "application/vnd.databricks.v1+cell": {
     "cellMetadata": {
      "byteLimit": 2048000,
      "rowLimit": 10000
     },
     "inputWidgets": {},
     "nuid": "5c2ed63b-3a98-49bf-a068-3728b6ff8668",
     "showTitle": false,
     "tableResultSettingsMap": {},
     "title": ""
    }
   },
   "source": [
    "A categoria de produtos mais vendidos foi a Feminina, com 2.717.872 produtos vendidos no período inteiro de análise"
   ]
  },
  {
   "cell_type": "code",
   "execution_count": 0,
   "metadata": {
    "application/vnd.databricks.v1+cell": {
     "cellMetadata": {
      "byteLimit": 2048000,
      "implicitDf": true,
      "rowLimit": 10000
     },
     "inputWidgets": {},
     "nuid": "26c3c503-0102-403f-bced-a6ce9ca13140",
     "showTitle": true,
     "tableResultSettingsMap": {},
     "title": "Resposta 2: mês com mais vendas"
    }
   },
   "outputs": [
    {
     "output_type": "display_data",
     "data": {
      "text/html": [
       "<style scoped>\n",
       "  .table-result-container {\n",
       "    max-height: 300px;\n",
       "    overflow: auto;\n",
       "  }\n",
       "  table, th, td {\n",
       "    border: 1px solid black;\n",
       "    border-collapse: collapse;\n",
       "  }\n",
       "  th, td {\n",
       "    padding: 5px;\n",
       "  }\n",
       "  th {\n",
       "    text-align: left;\n",
       "  }\n",
       "</style><div class='table-result-container'><table class='table-result'><thead style='background-color: white'><tr><th>year_month</th><th>vendas</th></tr></thead><tbody><tr><td>2024-12</td><td>494169</td></tr><tr><td>2023-12</td><td>450186</td></tr><tr><td>2024-09</td><td>241966</td></tr><tr><td>2024-03</td><td>213264</td></tr><tr><td>2023-09</td><td>209295</td></tr><tr><td>2024-10</td><td>203170</td></tr><tr><td>2023-10</td><td>184888</td></tr><tr><td>2023-03</td><td>177969</td></tr><tr><td>2024-05</td><td>152786</td></tr><tr><td>2024-11</td><td>151080</td></tr><tr><td>2023-05</td><td>143884</td></tr><tr><td>2024-04</td><td>138047</td></tr><tr><td>2023-11</td><td>132770</td></tr><tr><td>2023-04</td><td>126360</td></tr><tr><td>2024-01</td><td>121026</td></tr><tr><td>2023-01</td><td>116153</td></tr><tr><td>2024-08</td><td>107578</td></tr><tr><td>2024-06</td><td>105720</td></tr><tr><td>2024-07</td><td>103444</td></tr><tr><td>2023-07</td><td>100048</td></tr><tr><td>2024-02</td><td>97709</td></tr><tr><td>2023-06</td><td>89464</td></tr><tr><td>2023-08</td><td>87095</td></tr><tr><td>2023-02</td><td>80372</td></tr></tbody></table></div>"
      ]
     },
     "metadata": {
      "application/vnd.databricks.v1+output": {
       "addedWidgets": {},
       "aggData": [],
       "aggError": "",
       "aggOverflow": false,
       "aggSchema": [],
       "aggSeriesLimitReached": false,
       "aggType": "",
       "arguments": {},
       "columnCustomDisplayInfos": {},
       "data": [
        [
         "2024-12",
         494169
        ],
        [
         "2023-12",
         450186
        ],
        [
         "2024-09",
         241966
        ],
        [
         "2024-03",
         213264
        ],
        [
         "2023-09",
         209295
        ],
        [
         "2024-10",
         203170
        ],
        [
         "2023-10",
         184888
        ],
        [
         "2023-03",
         177969
        ],
        [
         "2024-05",
         152786
        ],
        [
         "2024-11",
         151080
        ],
        [
         "2023-05",
         143884
        ],
        [
         "2024-04",
         138047
        ],
        [
         "2023-11",
         132770
        ],
        [
         "2023-04",
         126360
        ],
        [
         "2024-01",
         121026
        ],
        [
         "2023-01",
         116153
        ],
        [
         "2024-08",
         107578
        ],
        [
         "2024-06",
         105720
        ],
        [
         "2024-07",
         103444
        ],
        [
         "2023-07",
         100048
        ],
        [
         "2024-02",
         97709
        ],
        [
         "2023-06",
         89464
        ],
        [
         "2023-08",
         87095
        ],
        [
         "2023-02",
         80372
        ]
       ],
       "datasetInfos": [],
       "dbfsResultPath": null,
       "isJsonSchema": true,
       "metadata": {},
       "overflow": false,
       "plotOptions": {
        "customPlotOptions": {},
        "displayType": "table",
        "pivotAggregation": null,
        "pivotColumns": null,
        "xColumns": null,
        "yColumns": null
       },
       "removedWidgets": [],
       "schema": [
        {
         "metadata": "{}",
         "name": "year_month",
         "type": "\"string\""
        },
        {
         "metadata": "{}",
         "name": "vendas",
         "type": "\"long\""
        }
       ],
       "type": "table"
      }
     },
     "output_type": "display_data"
    }
   ],
   "source": [
    "%sql\n",
    "SELECT date_format(`Date`,'yyyy-MM') AS year_month, COUNT(DISTINCT(InvoiceID)) AS vendas\n",
    "FROM fgold.fato_transacoes \n",
    "WHERE TransactionType = 'Sale'\n",
    "GROUP BY date_format(`Date`,'yyyy-MM')\n",
    "ORDER BY vendas DESC"
   ]
  },
  {
   "cell_type": "markdown",
   "metadata": {
    "application/vnd.databricks.v1+cell": {
     "cellMetadata": {
      "byteLimit": 2048000,
      "rowLimit": 10000
     },
     "inputWidgets": {},
     "nuid": "9a5d1eea-a8a0-4fbc-9e73-8ae523485ef9",
     "showTitle": false,
     "tableResultSettingsMap": {},
     "title": ""
    }
   },
   "source": [
    "O mês com mais vendas foi dezembro/2024 com 494.169 transações desse tipo"
   ]
  },
  {
   "cell_type": "markdown",
   "metadata": {
    "application/vnd.databricks.v1+cell": {
     "cellMetadata": {
      "byteLimit": 2048000,
      "rowLimit": 10000
     },
     "inputWidgets": {},
     "nuid": "5351a79a-3ddf-4ec7-907a-6f82ac3e4740",
     "showTitle": false,
     "tableResultSettingsMap": {},
     "title": ""
    }
   },
   "source": [
    "Em abril de 2024, ano mais recente, há 15 clientes com 2 devoluções, que é a maior quantidade de devoluções desse período"
   ]
  },
  {
   "cell_type": "markdown",
   "metadata": {
    "application/vnd.databricks.v1+cell": {
     "cellMetadata": {
      "byteLimit": 2048000,
      "rowLimit": 10000
     },
     "inputWidgets": {},
     "nuid": "6199d844-09ba-4532-be29-09060f4e776c",
     "showTitle": false,
     "tableResultSettingsMap": {},
     "title": ""
    }
   },
   "source": [
    "# 6) Autoavaliação\n",
    "## 6.1) Escolha dos dados\n",
    "Inicialmente, pensou-se em usar dados da empresa em que trabalho para aproveitar o conhecimento do negócio relacionado ao conjunto de dados porém, não estava sendo um processo simples de ter a autorização. Desse modo, foi escolhido um tema de interesse e iniciada a busca no Kaggle, por ser conhecido amplamente pela quantidade de dados disponível para pessoas que querem aprender mais sobre análise e ciência de dados. Nesse contexto, entende-se que, é muito provável que quanto mais conhecimento do negócio se tem, melhores são as perguntas, que consequentemente trazem respostas melhores e análises com mais qualidade para o negócio.\n",
    "\n",
    "## 6.2) Tratamento da qualidade dos dados\n",
    "Como a base já era muito bem tratada, poucos tratamentos foram feitos em relação a camada bronze. Nos tratamentos feitos, como por exemplo, e-mail iguais para clientes a princípio distintos, ficou claro que pode existir um erro no processo de cadastro de clientes na empresa fictícia, que deve ser tratado no processo de cadastro. Além disso, o tratamento é essencial para ter segurança ao se trabalhar com os dados.\n",
    "\n",
    "## 6.3) Respostas das perguntas levantadas como objetivos\n",
    "Nem todas as perguntas foram respondidas, nota-se que as mais básicas foram respondidas por falta de tempo.\n",
    "\n",
    "## 6.4) Uso de SQL ou Python\n",
    "Inúmeras vezes o SQL se mostrou extremamente simples de se chegar a resposta principalmente na etapa de análise da qualidade dos dados, na passagem da camada silver para a gold. Ficou entendido que mesmo sendo uma linguagem \"limitada\" a consultas, no bom sentido, se mostra mais simples e dá menos trabalho do que usar uma linguagem de programação, contrariando meu pensamento inicial e eliminando um possível pré-conceito de que Python é melhor do que SQL.\n"
   ]
  }
 ],
 "metadata": {
  "application/vnd.databricks.v1+notebook": {
   "computePreferences": null,
   "dashboards": [],
   "environmentMetadata": {
    "base_environment": "",
    "environment_version": "1"
   },
   "inputWidgetPreferences": null,
   "language": "python",
   "notebookMetadata": {
    "mostRecentlyExecutedCommandWithImplicitDF": {
     "commandId": 2285692416191784,
     "dataframes": [
      "_sqldf"
     ]
    },
    "pythonIndentUnit": 4
   },
   "notebookName": "MVP Sprint 1 - Engenharia de dados - Ana Luisa Barcelos",
   "widgets": {}
  }
 },
 "nbformat": 4,
 "nbformat_minor": 0
}
